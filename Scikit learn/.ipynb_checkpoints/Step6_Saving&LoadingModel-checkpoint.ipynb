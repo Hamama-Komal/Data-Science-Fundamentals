{
 "cells": [
  {
   "cell_type": "code",
   "execution_count": 1,
   "id": "a960942f-2025-4c0f-b774-22ab5185194b",
   "metadata": {},
   "outputs": [],
   "source": [
    "# Step6_Saving and Model\n",
    "# 2 Method of Saving:\n",
    "# 1- Pickle\n",
    "# 2- Joblib"
   ]
  },
  {
   "cell_type": "code",
   "execution_count": 6,
   "id": "f436a86a-f85f-4231-bbae-296c9730e79f",
   "metadata": {},
   "outputs": [
    {
     "data": {
      "text/plain": [
       "0.9033333333333333"
      ]
     },
     "execution_count": 6,
     "metadata": {},
     "output_type": "execute_result"
    }
   ],
   "source": [
    "import pandas as pd\n",
    "import numpy as np\n",
    "\n",
    "heart_data = pd.read_csv(\"Heart Attack Data.csv\")\n",
    "data = heart_data.sample(frac=1)\n",
    "x = data.drop(['heart_attack'], axis = 1 )\n",
    "y = data['heart_attack']\n",
    "\n",
    "from sklearn.ensemble import RandomForestClassifier\n",
    "from sklearn.model_selection import train_test_split\n",
    "\n",
    "clf = RandomForestClassifier()\n",
    "x_train, x_test, y_train, y_test = train_test_split(x, y, test_size = 0.3)  \n",
    "\n",
    "clf.fit(x_train, y_train)\n",
    "\n",
    "clf.score(x_test, y_test) "
   ]
  },
  {
   "cell_type": "code",
   "execution_count": 12,
   "id": "fec5d657-40e5-4981-8f8c-4a0552fe6125",
   "metadata": {},
   "outputs": [],
   "source": [
    "# Pickle Method:\n",
    "import pickle\n",
    "\n",
    "# save\n",
    "pickle.dump(clf, open('heart_data_model.pkl', 'wb'))"
   ]
  },
  {
   "cell_type": "code",
   "execution_count": 13,
   "id": "2b0a8d50-80c6-4a49-8a18-6e8d4a14f63a",
   "metadata": {},
   "outputs": [],
   "source": [
    "# load\n",
    "my_saved_model = pickle.load(open('heart_data_model.pkl', 'rb'))"
   ]
  },
  {
   "cell_type": "code",
   "execution_count": 18,
   "id": "1106d3fe-83c4-4831-b115-465b921676ef",
   "metadata": {},
   "outputs": [
    {
     "data": {
      "text/plain": [
       "0.9033333333333333"
      ]
     },
     "execution_count": 18,
     "metadata": {},
     "output_type": "execute_result"
    }
   ],
   "source": [
    "my_saved_model.score(x_test, y_test)"
   ]
  },
  {
   "cell_type": "code",
   "execution_count": 17,
   "id": "f69e822a-e730-485d-b9af-cc6e3e0f4d96",
   "metadata": {},
   "outputs": [],
   "source": [
    "# joblib Method\n",
    "\n",
    "from joblib import dump, load\n",
    "\n",
    "# save\n",
    "dump(clf, 'heart_data_model.joblib')\n",
    "\n",
    "# load\n",
    "joblib_model = load(filename = 'heart_data_model.joblib')"
   ]
  },
  {
   "cell_type": "code",
   "execution_count": 19,
   "id": "8b2d1976-981e-439a-ae53-eabc926b6700",
   "metadata": {},
   "outputs": [
    {
     "data": {
      "text/plain": [
       "0.9033333333333333"
      ]
     },
     "execution_count": 19,
     "metadata": {},
     "output_type": "execute_result"
    }
   ],
   "source": [
    "joblib_model.score(x_test, y_test)"
   ]
  },
  {
   "cell_type": "code",
   "execution_count": null,
   "id": "1aab8279-3bdb-4de9-b534-82f2547160c3",
   "metadata": {},
   "outputs": [],
   "source": []
  }
 ],
 "metadata": {
  "kernelspec": {
   "display_name": "Python 3 (ipykernel)",
   "language": "python",
   "name": "python3"
  },
  "language_info": {
   "codemirror_mode": {
    "name": "ipython",
    "version": 3
   },
   "file_extension": ".py",
   "mimetype": "text/x-python",
   "name": "python",
   "nbconvert_exporter": "python",
   "pygments_lexer": "ipython3",
   "version": "3.13.5"
  }
 },
 "nbformat": 4,
 "nbformat_minor": 5
}
