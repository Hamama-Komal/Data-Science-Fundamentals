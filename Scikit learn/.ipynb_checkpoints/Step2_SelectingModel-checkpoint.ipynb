{
 "cells": [
  {
   "cell_type": "code",
   "execution_count": 1,
   "id": "afbcee97-f819-4125-9f23-8c636bb01e62",
   "metadata": {},
   "outputs": [],
   "source": [
    "# Selecting the model/ Estimator"
   ]
  },
  {
   "cell_type": "code",
   "execution_count": 2,
   "id": "e72f7773-8e17-4727-903a-66df6c47a49e",
   "metadata": {},
   "outputs": [],
   "source": [
    "# 1- import data"
   ]
  },
  {
   "cell_type": "code",
   "execution_count": 3,
   "id": "121fe898-1cea-425d-9d54-7d8693d07d14",
   "metadata": {},
   "outputs": [
    {
     "data": {
      "text/html": [
       "<div>\n",
       "<style scoped>\n",
       "    .dataframe tbody tr th:only-of-type {\n",
       "        vertical-align: middle;\n",
       "    }\n",
       "\n",
       "    .dataframe tbody tr th {\n",
       "        vertical-align: top;\n",
       "    }\n",
       "\n",
       "    .dataframe thead th {\n",
       "        text-align: right;\n",
       "    }\n",
       "</style>\n",
       "<table border=\"1\" class=\"dataframe\">\n",
       "  <thead>\n",
       "    <tr style=\"text-align: right;\">\n",
       "      <th></th>\n",
       "      <th>MedInc</th>\n",
       "      <th>HouseAge</th>\n",
       "      <th>AveRooms</th>\n",
       "      <th>AveBedrms</th>\n",
       "      <th>Population</th>\n",
       "      <th>AveOccup</th>\n",
       "      <th>Latitude</th>\n",
       "      <th>Longitude</th>\n",
       "      <th>target</th>\n",
       "    </tr>\n",
       "  </thead>\n",
       "  <tbody>\n",
       "    <tr>\n",
       "      <th>0</th>\n",
       "      <td>8.3252</td>\n",
       "      <td>41.0</td>\n",
       "      <td>6.984127</td>\n",
       "      <td>1.023810</td>\n",
       "      <td>322.0</td>\n",
       "      <td>2.555556</td>\n",
       "      <td>37.88</td>\n",
       "      <td>-122.23</td>\n",
       "      <td>4.526</td>\n",
       "    </tr>\n",
       "    <tr>\n",
       "      <th>1</th>\n",
       "      <td>8.3014</td>\n",
       "      <td>21.0</td>\n",
       "      <td>6.238137</td>\n",
       "      <td>0.971880</td>\n",
       "      <td>2401.0</td>\n",
       "      <td>2.109842</td>\n",
       "      <td>37.86</td>\n",
       "      <td>-122.22</td>\n",
       "      <td>3.585</td>\n",
       "    </tr>\n",
       "    <tr>\n",
       "      <th>2</th>\n",
       "      <td>7.2574</td>\n",
       "      <td>52.0</td>\n",
       "      <td>8.288136</td>\n",
       "      <td>1.073446</td>\n",
       "      <td>496.0</td>\n",
       "      <td>2.802260</td>\n",
       "      <td>37.85</td>\n",
       "      <td>-122.24</td>\n",
       "      <td>3.521</td>\n",
       "    </tr>\n",
       "    <tr>\n",
       "      <th>3</th>\n",
       "      <td>5.6431</td>\n",
       "      <td>52.0</td>\n",
       "      <td>5.817352</td>\n",
       "      <td>1.073059</td>\n",
       "      <td>558.0</td>\n",
       "      <td>2.547945</td>\n",
       "      <td>37.85</td>\n",
       "      <td>-122.25</td>\n",
       "      <td>3.413</td>\n",
       "    </tr>\n",
       "    <tr>\n",
       "      <th>4</th>\n",
       "      <td>3.8462</td>\n",
       "      <td>52.0</td>\n",
       "      <td>6.281853</td>\n",
       "      <td>1.081081</td>\n",
       "      <td>565.0</td>\n",
       "      <td>2.181467</td>\n",
       "      <td>37.85</td>\n",
       "      <td>-122.25</td>\n",
       "      <td>3.422</td>\n",
       "    </tr>\n",
       "  </tbody>\n",
       "</table>\n",
       "</div>"
      ],
      "text/plain": [
       "   MedInc  HouseAge  AveRooms  AveBedrms  Population  AveOccup  Latitude  \\\n",
       "0  8.3252      41.0  6.984127   1.023810       322.0  2.555556     37.88   \n",
       "1  8.3014      21.0  6.238137   0.971880      2401.0  2.109842     37.86   \n",
       "2  7.2574      52.0  8.288136   1.073446       496.0  2.802260     37.85   \n",
       "3  5.6431      52.0  5.817352   1.073059       558.0  2.547945     37.85   \n",
       "4  3.8462      52.0  6.281853   1.081081       565.0  2.181467     37.85   \n",
       "\n",
       "   Longitude  target  \n",
       "0    -122.23   4.526  \n",
       "1    -122.22   3.585  \n",
       "2    -122.24   3.521  \n",
       "3    -122.25   3.413  \n",
       "4    -122.25   3.422  "
      ]
     },
     "execution_count": 3,
     "metadata": {},
     "output_type": "execute_result"
    }
   ],
   "source": [
    "import pandas as pd\n",
    "import numpy as np\n",
    "from sklearn.datasets import fetch_california_housing\n",
    "\n",
    "# Load California housing dataset\n",
    "california = fetch_california_housing()\n",
    "\n",
    "# Convert to DataFrame\n",
    "boston_df = pd.DataFrame(california.data, columns=california.feature_names)\n",
    "boston_df['target'] = california.target\n",
    "\n",
    "boston_df.head()"
   ]
  },
  {
   "cell_type": "code",
   "execution_count": 4,
   "id": "c82c5e7f-d948-4dc2-be61-e20e76adf360",
   "metadata": {},
   "outputs": [
    {
     "data": {
      "text/plain": [
       "20640"
      ]
     },
     "execution_count": 4,
     "metadata": {},
     "output_type": "execute_result"
    }
   ],
   "source": [
    "len(boston_df)"
   ]
  },
  {
   "cell_type": "code",
   "execution_count": 5,
   "id": "782cdfcc-8066-4c35-b859-e0c113c0c779",
   "metadata": {},
   "outputs": [],
   "source": [
    "## Info about data 1) numbers or target >> regression 2) Column Name >> Label Data  3) No. of samples >> 20640\n",
    "## According to that parameters we are choosing model from ml_map\n",
    "## in this case, we select RigidRegression Model"
   ]
  },
  {
   "cell_type": "code",
   "execution_count": 6,
   "id": "f73a0557-1956-48aa-b9d3-e5832b4ad6a0",
   "metadata": {},
   "outputs": [],
   "source": [
    "from sklearn.linear_model import Ridge\n",
    "from sklearn.model_selection import train_test_split"
   ]
  },
  {
   "cell_type": "code",
   "execution_count": 7,
   "id": "03906c65-e2d1-482f-b231-23497f3be201",
   "metadata": {},
   "outputs": [
    {
     "data": {
      "text/plain": [
       "0.5971400590759695"
      ]
     },
     "execution_count": 7,
     "metadata": {},
     "output_type": "execute_result"
    }
   ],
   "source": [
    "# To fix value\n",
    "np.random.seed(1)\n",
    "\n",
    "# create data\n",
    "x = boston_df.drop('target', axis = 1)\n",
    "y = boston_df['target']\n",
    "# split the data\n",
    "x_train, x_test, y_train, y_test = train_test_split(x, y, test_size = 0.3)\n",
    "# instantiate model\n",
    "reg_model = Ridge()\n",
    "reg_model.fit(x_train, y_train)\n",
    "\n",
    "# check score\n",
    "reg_model.score(x_test, y_test)"
   ]
  },
  {
   "cell_type": "code",
   "execution_count": 8,
   "id": "4c1eda59-5113-40a0-ba50-66d67711fec1",
   "metadata": {},
   "outputs": [],
   "source": [
    "# now try RandomForestRegression"
   ]
  },
  {
   "cell_type": "code",
   "execution_count": 9,
   "id": "058f89f8-2a02-461a-8aa4-0f07e3e3a0c2",
   "metadata": {},
   "outputs": [],
   "source": [
    "from sklearn.ensemble import RandomForestRegressor"
   ]
  },
  {
   "cell_type": "code",
   "execution_count": 10,
   "id": "9a4a29d8-dc25-48c6-b3a4-d6edbb66bd14",
   "metadata": {},
   "outputs": [
    {
     "data": {
      "text/plain": [
       "0.8043322408631032"
      ]
     },
     "execution_count": 10,
     "metadata": {},
     "output_type": "execute_result"
    }
   ],
   "source": [
    "# To fix value\n",
    "np.random.seed(1)\n",
    "\n",
    "# create data\n",
    "x = boston_df.drop('target', axis = 1)\n",
    "y = boston_df['target']\n",
    "# split the data\n",
    "x_train, x_test, y_train, y_test = train_test_split(x, y, test_size = 0.3)\n",
    "# instantiate model\n",
    "reg_model = RandomForestRegressor()\n",
    "reg_model.fit(x_train, y_train)\n",
    "\n",
    "# check score\n",
    "reg_model.score(x_test, y_test)"
   ]
  },
  {
   "cell_type": "code",
   "execution_count": 11,
   "id": "745b90c0-237c-471d-a6ac-bb43b7db0c94",
   "metadata": {},
   "outputs": [],
   "source": [
    "# Classification Model"
   ]
  },
  {
   "cell_type": "code",
   "execution_count": 12,
   "id": "75f9e759-ef74-4b90-b07d-cb7229dda9c7",
   "metadata": {},
   "outputs": [
    {
     "data": {
      "text/html": [
       "<div>\n",
       "<style scoped>\n",
       "    .dataframe tbody tr th:only-of-type {\n",
       "        vertical-align: middle;\n",
       "    }\n",
       "\n",
       "    .dataframe tbody tr th {\n",
       "        vertical-align: top;\n",
       "    }\n",
       "\n",
       "    .dataframe thead th {\n",
       "        text-align: right;\n",
       "    }\n",
       "</style>\n",
       "<table border=\"1\" class=\"dataframe\">\n",
       "  <thead>\n",
       "    <tr style=\"text-align: right;\">\n",
       "      <th></th>\n",
       "      <th>age</th>\n",
       "      <th>sex</th>\n",
       "      <th>total_cholesterol</th>\n",
       "      <th>ldl</th>\n",
       "      <th>hdl</th>\n",
       "      <th>systolic_bp</th>\n",
       "      <th>diastolic_bp</th>\n",
       "      <th>smoking</th>\n",
       "      <th>diabetes</th>\n",
       "      <th>heart_attack</th>\n",
       "    </tr>\n",
       "  </thead>\n",
       "  <tbody>\n",
       "    <tr>\n",
       "      <th>0</th>\n",
       "      <td>57</td>\n",
       "      <td>1</td>\n",
       "      <td>229.463642</td>\n",
       "      <td>175.879129</td>\n",
       "      <td>39.225687</td>\n",
       "      <td>124.070127</td>\n",
       "      <td>91.378780</td>\n",
       "      <td>0</td>\n",
       "      <td>0</td>\n",
       "      <td>0</td>\n",
       "    </tr>\n",
       "    <tr>\n",
       "      <th>1</th>\n",
       "      <td>58</td>\n",
       "      <td>1</td>\n",
       "      <td>186.464120</td>\n",
       "      <td>128.984916</td>\n",
       "      <td>34.950968</td>\n",
       "      <td>95.492552</td>\n",
       "      <td>64.355040</td>\n",
       "      <td>1</td>\n",
       "      <td>0</td>\n",
       "      <td>0</td>\n",
       "    </tr>\n",
       "    <tr>\n",
       "      <th>2</th>\n",
       "      <td>37</td>\n",
       "      <td>1</td>\n",
       "      <td>251.300719</td>\n",
       "      <td>152.347592</td>\n",
       "      <td>45.913288</td>\n",
       "      <td>99.519335</td>\n",
       "      <td>64.953147</td>\n",
       "      <td>0</td>\n",
       "      <td>1</td>\n",
       "      <td>0</td>\n",
       "    </tr>\n",
       "    <tr>\n",
       "      <th>3</th>\n",
       "      <td>55</td>\n",
       "      <td>1</td>\n",
       "      <td>192.058908</td>\n",
       "      <td>116.803684</td>\n",
       "      <td>67.208925</td>\n",
       "      <td>122.460002</td>\n",
       "      <td>73.821382</td>\n",
       "      <td>0</td>\n",
       "      <td>0</td>\n",
       "      <td>0</td>\n",
       "    </tr>\n",
       "    <tr>\n",
       "      <th>4</th>\n",
       "      <td>53</td>\n",
       "      <td>1</td>\n",
       "      <td>151.203448</td>\n",
       "      <td>107.017396</td>\n",
       "      <td>60.693838</td>\n",
       "      <td>123.022257</td>\n",
       "      <td>81.121946</td>\n",
       "      <td>0</td>\n",
       "      <td>1</td>\n",
       "      <td>0</td>\n",
       "    </tr>\n",
       "  </tbody>\n",
       "</table>\n",
       "</div>"
      ],
      "text/plain": [
       "   age  sex  total_cholesterol         ldl        hdl  systolic_bp  \\\n",
       "0   57    1         229.463642  175.879129  39.225687   124.070127   \n",
       "1   58    1         186.464120  128.984916  34.950968    95.492552   \n",
       "2   37    1         251.300719  152.347592  45.913288    99.519335   \n",
       "3   55    1         192.058908  116.803684  67.208925   122.460002   \n",
       "4   53    1         151.203448  107.017396  60.693838   123.022257   \n",
       "\n",
       "   diastolic_bp  smoking  diabetes  heart_attack  \n",
       "0     91.378780        0         0             0  \n",
       "1     64.355040        1         0             0  \n",
       "2     64.953147        0         1             0  \n",
       "3     73.821382        0         0             0  \n",
       "4     81.121946        0         1             0  "
      ]
     },
     "execution_count": 12,
     "metadata": {},
     "output_type": "execute_result"
    }
   ],
   "source": [
    "my_data = pd.read_csv('Heart Attack Data.csv')\n",
    "my_data.head()"
   ]
  },
  {
   "cell_type": "code",
   "execution_count": 13,
   "id": "3f5d4583-75f1-43a2-be6e-1793defba9a9",
   "metadata": {},
   "outputs": [
    {
     "data": {
      "text/plain": [
       "1000"
      ]
     },
     "execution_count": 13,
     "metadata": {},
     "output_type": "execute_result"
    }
   ],
   "source": [
    "len(my_data)"
   ]
  },
  {
   "cell_type": "code",
   "execution_count": 14,
   "id": "dee2b06a-7f0f-4419-997a-935305d5d6f3",
   "metadata": {},
   "outputs": [],
   "source": [
    "## Information about this data: 1) We have to find whether the patient has heart attack or not >> Classification Problem\n",
    "## 2) label data    ## 3) length of data"
   ]
  },
  {
   "cell_type": "code",
   "execution_count": 15,
   "id": "fff2dab9-6819-4cae-afea-85b8a31587db",
   "metadata": {},
   "outputs": [],
   "source": [
    "# Linear SVC"
   ]
  },
  {
   "cell_type": "code",
   "execution_count": 16,
   "id": "a13f0ab3-4f75-40c7-83ca-3329a2050668",
   "metadata": {},
   "outputs": [],
   "source": [
    "from sklearn.svm import LinearSVC"
   ]
  },
  {
   "cell_type": "code",
   "execution_count": 17,
   "id": "09218023-222b-416e-898b-80045fd9dd7a",
   "metadata": {},
   "outputs": [
    {
     "data": {
      "text/plain": [
       "0.9333333333333333"
      ]
     },
     "execution_count": 17,
     "metadata": {},
     "output_type": "execute_result"
    }
   ],
   "source": [
    "# create data\n",
    "x = my_data.drop('heart_attack', axis = 1)\n",
    "y = my_data['heart_attack']\n",
    "# split the data\n",
    "x_train, x_test, y_train, y_test = train_test_split(x, y, test_size = 0.3)\n",
    "# instantiate model\n",
    "svc_model = LinearSVC()\n",
    "svc_model.fit(x_train, y_train)\n",
    "\n",
    "# check score\n",
    "svc_model.score(x_test, y_test)"
   ]
  },
  {
   "cell_type": "code",
   "execution_count": 18,
   "id": "73418320-463f-4a69-9d60-b9563289e567",
   "metadata": {},
   "outputs": [],
   "source": [
    "# SVC Ensemble Classfier"
   ]
  },
  {
   "cell_type": "code",
   "execution_count": 19,
   "id": "452128bc-93cb-4792-8257-c6715553db79",
   "metadata": {},
   "outputs": [],
   "source": [
    "from sklearn.ensemble import RandomForestClassifier"
   ]
  },
  {
   "cell_type": "code",
   "execution_count": 20,
   "id": "778e5ddc-0d9d-4487-9072-ee7ac4298f7e",
   "metadata": {},
   "outputs": [
    {
     "data": {
      "text/plain": [
       "0.8966666666666666"
      ]
     },
     "execution_count": 20,
     "metadata": {},
     "output_type": "execute_result"
    }
   ],
   "source": [
    "# create data\n",
    "x = my_data.drop('heart_attack', axis = 1)\n",
    "y = my_data['heart_attack']\n",
    "# split the data\n",
    "x_train, x_test, y_train, y_test = train_test_split(x, y, test_size = 0.3)\n",
    "# instantiate model\n",
    "rfc_model = RandomForestClassifier()\n",
    "rfc_model.fit(x_train, y_train)\n",
    "\n",
    "# check score\n",
    "rfc_model.score(x_test, y_test)"
   ]
  },
  {
   "cell_type": "code",
   "execution_count": 21,
   "id": "aef6e88c-8e67-4aeb-bd95-66edef3bbd2c",
   "metadata": {},
   "outputs": [],
   "source": [
    "## Note: 1-Stuctured Data >> Ensembler      2-Unstuctured Data >> Deep Learning"
   ]
  },
  {
   "cell_type": "code",
   "execution_count": null,
   "id": "1f00e9af-a0de-499a-b328-46dd506d402e",
   "metadata": {},
   "outputs": [],
   "source": []
  }
 ],
 "metadata": {
  "kernelspec": {
   "display_name": "Python 3 (ipykernel)",
   "language": "python",
   "name": "python3"
  },
  "language_info": {
   "codemirror_mode": {
    "name": "ipython",
    "version": 3
   },
   "file_extension": ".py",
   "mimetype": "text/x-python",
   "name": "python",
   "nbconvert_exporter": "python",
   "pygments_lexer": "ipython3",
   "version": "3.13.5"
  }
 },
 "nbformat": 4,
 "nbformat_minor": 5
}
