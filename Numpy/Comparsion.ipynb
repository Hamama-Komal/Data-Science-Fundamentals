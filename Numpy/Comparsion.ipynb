{
 "cells": [
  {
   "cell_type": "code",
   "execution_count": 1,
   "id": "99f14922-bfc7-49a6-9f70-59930123c4f6",
   "metadata": {},
   "outputs": [],
   "source": [
    "import numpy as np"
   ]
  },
  {
   "cell_type": "code",
   "execution_count": 2,
   "id": "b3a16feb-2a90-48cd-b0cd-b5a81835f9c9",
   "metadata": {},
   "outputs": [],
   "source": [
    "# Comparsion"
   ]
  },
  {
   "cell_type": "code",
   "execution_count": 6,
   "id": "d9eb2854-78d5-4e38-93a8-ae1e434d9dc4",
   "metadata": {},
   "outputs": [],
   "source": [
    "arr1 = np.array([[1,2,3],[3,4,5]])\n",
    "arr2 = np.array([[1,2,3],[7,8,10]])"
   ]
  },
  {
   "cell_type": "code",
   "execution_count": 7,
   "id": "ab0567b7-59c5-44ae-8fd4-c6bd34dbdfa9",
   "metadata": {},
   "outputs": [
    {
     "data": {
      "text/plain": [
       "array([[1, 2, 3],\n",
       "       [3, 4, 5]])"
      ]
     },
     "execution_count": 7,
     "metadata": {},
     "output_type": "execute_result"
    }
   ],
   "source": [
    "arr1"
   ]
  },
  {
   "cell_type": "code",
   "execution_count": 8,
   "id": "bf04ab85-537a-4d07-aee9-de236e118509",
   "metadata": {},
   "outputs": [
    {
     "data": {
      "text/plain": [
       "array([[ 1,  2,  3],\n",
       "       [ 7,  8, 10]])"
      ]
     },
     "execution_count": 8,
     "metadata": {},
     "output_type": "execute_result"
    }
   ],
   "source": [
    "arr2"
   ]
  },
  {
   "cell_type": "code",
   "execution_count": 3,
   "id": "9d70f5d6-91fb-48df-b78c-6e457cb0437e",
   "metadata": {},
   "outputs": [],
   "source": [
    "# > Greater than"
   ]
  },
  {
   "cell_type": "code",
   "execution_count": 9,
   "id": "a24cffe4-6546-46d1-922f-52fc02ccd9e2",
   "metadata": {},
   "outputs": [
    {
     "data": {
      "text/plain": [
       "array([[False, False, False],\n",
       "       [False, False, False]])"
      ]
     },
     "execution_count": 9,
     "metadata": {},
     "output_type": "execute_result"
    }
   ],
   "source": [
    "arr1 > arr2"
   ]
  },
  {
   "cell_type": "code",
   "execution_count": 10,
   "id": "e743a73c-1e97-45fd-b161-dbf1044fd18a",
   "metadata": {},
   "outputs": [
    {
     "data": {
      "text/plain": [
       "array([[False, False, False],\n",
       "       [False, False, False]])"
      ]
     },
     "execution_count": 10,
     "metadata": {},
     "output_type": "execute_result"
    }
   ],
   "source": [
    "arr1 > 5"
   ]
  },
  {
   "cell_type": "code",
   "execution_count": 11,
   "id": "27c4da8e-da95-4c3d-83d0-e98b5de11904",
   "metadata": {},
   "outputs": [],
   "source": [
    "# < Less Than"
   ]
  },
  {
   "cell_type": "code",
   "execution_count": 12,
   "id": "054477a2-9968-4d02-9b9a-7d25ca2b21ac",
   "metadata": {},
   "outputs": [
    {
     "data": {
      "text/plain": [
       "array([[False, False, False],\n",
       "       [ True,  True,  True]])"
      ]
     },
     "execution_count": 12,
     "metadata": {},
     "output_type": "execute_result"
    }
   ],
   "source": [
    "arr1 < arr2"
   ]
  },
  {
   "cell_type": "code",
   "execution_count": 13,
   "id": "6a2cfebd-0678-43ad-8f20-abc3e3739dd0",
   "metadata": {},
   "outputs": [
    {
     "data": {
      "text/plain": [
       "array([[ True,  True,  True],\n",
       "       [ True, False, False]])"
      ]
     },
     "execution_count": 13,
     "metadata": {},
     "output_type": "execute_result"
    }
   ],
   "source": [
    "arr1 < 4"
   ]
  },
  {
   "cell_type": "code",
   "execution_count": 14,
   "id": "08c809de-aa3e-48e0-93e4-d9e2a252a51d",
   "metadata": {},
   "outputs": [],
   "source": [
    "# == Equal To"
   ]
  },
  {
   "cell_type": "code",
   "execution_count": 15,
   "id": "cfc362f1-b5aa-445b-bc1e-f8ef69d97035",
   "metadata": {},
   "outputs": [
    {
     "data": {
      "text/plain": [
       "array([[ True,  True,  True],\n",
       "       [False, False, False]])"
      ]
     },
     "execution_count": 15,
     "metadata": {},
     "output_type": "execute_result"
    }
   ],
   "source": [
    "arr1 == arr2"
   ]
  },
  {
   "cell_type": "code",
   "execution_count": 16,
   "id": "7f629b2c-5c5f-4ab0-954a-71df1eea2c30",
   "metadata": {},
   "outputs": [
    {
     "data": {
      "text/plain": [
       "array([[ True, False, False],\n",
       "       [False, False, False]])"
      ]
     },
     "execution_count": 16,
     "metadata": {},
     "output_type": "execute_result"
    }
   ],
   "source": [
    "arr1 == 1"
   ]
  },
  {
   "cell_type": "code",
   "execution_count": 19,
   "id": "fcd5cba8-6cc6-4123-9a14-f061634dcb31",
   "metadata": {},
   "outputs": [],
   "source": [
    "# >= Greater Than and Equal To"
   ]
  },
  {
   "cell_type": "code",
   "execution_count": 18,
   "id": "78ea1464-1840-41f9-b105-cbd31595bd0a",
   "metadata": {},
   "outputs": [
    {
     "data": {
      "text/plain": [
       "array([[ True,  True,  True],\n",
       "       [False, False, False]])"
      ]
     },
     "execution_count": 18,
     "metadata": {},
     "output_type": "execute_result"
    }
   ],
   "source": [
    "arr1 >= arr2"
   ]
  },
  {
   "cell_type": "code",
   "execution_count": 20,
   "id": "f9d6f889-daa4-4352-84bf-2698262bdeba",
   "metadata": {},
   "outputs": [],
   "source": [
    "# <= Less Than and Equal To"
   ]
  },
  {
   "cell_type": "code",
   "execution_count": 21,
   "id": "d63441ae-bf61-40e8-9bc8-6a6f536edf3d",
   "metadata": {},
   "outputs": [
    {
     "data": {
      "text/plain": [
       "array([[ True,  True,  True],\n",
       "       [ True,  True,  True]])"
      ]
     },
     "execution_count": 21,
     "metadata": {},
     "output_type": "execute_result"
    }
   ],
   "source": [
    "arr1 <= arr2"
   ]
  },
  {
   "cell_type": "code",
   "execution_count": 23,
   "id": "3b3ad575-e6e4-4f77-941d-226b3928a219",
   "metadata": {},
   "outputs": [
    {
     "data": {
      "text/plain": [
       "array([[ True,  True,  True],\n",
       "       [ True, False, False]])"
      ]
     },
     "execution_count": 23,
     "metadata": {},
     "output_type": "execute_result"
    }
   ],
   "source": [
    "arr1 <= 3"
   ]
  },
  {
   "cell_type": "code",
   "execution_count": 24,
   "id": "f2d1007a-ff3e-485a-ae33-daa015f9f32a",
   "metadata": {},
   "outputs": [],
   "source": [
    "## != Not Equal To"
   ]
  },
  {
   "cell_type": "code",
   "execution_count": 25,
   "id": "6021fd02-bb64-4c4a-b334-599813fc80fa",
   "metadata": {},
   "outputs": [
    {
     "data": {
      "text/plain": [
       "array([[False, False, False],\n",
       "       [ True,  True,  True]])"
      ]
     },
     "execution_count": 25,
     "metadata": {},
     "output_type": "execute_result"
    }
   ],
   "source": [
    "arr1 != arr2"
   ]
  },
  {
   "cell_type": "code",
   "execution_count": null,
   "id": "5e94befd-da65-49c8-ba9b-73c8efd35688",
   "metadata": {},
   "outputs": [],
   "source": []
  }
 ],
 "metadata": {
  "kernelspec": {
   "display_name": "Python 3 (ipykernel)",
   "language": "python",
   "name": "python3"
  },
  "language_info": {
   "codemirror_mode": {
    "name": "ipython",
    "version": 3
   },
   "file_extension": ".py",
   "mimetype": "text/x-python",
   "name": "python",
   "nbconvert_exporter": "python",
   "pygments_lexer": "ipython3",
   "version": "3.13.5"
  }
 },
 "nbformat": 4,
 "nbformat_minor": 5
}
