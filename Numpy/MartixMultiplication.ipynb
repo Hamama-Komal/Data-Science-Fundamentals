{
 "cells": [
  {
   "cell_type": "code",
   "execution_count": 1,
   "id": "fa154e45-f292-4a81-89ba-2838577a8695",
   "metadata": {},
   "outputs": [],
   "source": [
    "import numpy as np"
   ]
  },
  {
   "cell_type": "code",
   "execution_count": 2,
   "id": "5c860956-dea5-4590-ad29-dc7481d0eadb",
   "metadata": {},
   "outputs": [],
   "source": [
    "# Martix Multiplication: 1) Dot Product  2) Element wise Multiplication"
   ]
  },
  {
   "cell_type": "code",
   "execution_count": 4,
   "id": "d4a72022-a5fb-48ca-ae74-3c28bc022e39",
   "metadata": {},
   "outputs": [],
   "source": [
    "np.random.seed(seed =0)\n",
    "matrix_1 = np.random.randint(10, size= (3,4))\n",
    "matrix_2 = np.random.randint(10, size= (3,4))"
   ]
  },
  {
   "cell_type": "code",
   "execution_count": 5,
   "id": "193499cb-a752-4e28-afb2-a2151879ec19",
   "metadata": {},
   "outputs": [
    {
     "data": {
      "text/plain": [
       "array([[5, 0, 3, 3],\n",
       "       [7, 9, 3, 5],\n",
       "       [2, 4, 7, 6]], dtype=int32)"
      ]
     },
     "execution_count": 5,
     "metadata": {},
     "output_type": "execute_result"
    }
   ],
   "source": [
    "matrix_1"
   ]
  },
  {
   "cell_type": "code",
   "execution_count": 6,
   "id": "25229a72-c33c-413b-8081-43f4f3297818",
   "metadata": {},
   "outputs": [
    {
     "data": {
      "text/plain": [
       "array([[8, 8, 1, 6],\n",
       "       [7, 7, 8, 1],\n",
       "       [5, 9, 8, 9]], dtype=int32)"
      ]
     },
     "execution_count": 6,
     "metadata": {},
     "output_type": "execute_result"
    }
   ],
   "source": [
    "matrix_2"
   ]
  },
  {
   "cell_type": "code",
   "execution_count": 7,
   "id": "64805024-9e39-4196-ad33-da2c34fc767e",
   "metadata": {},
   "outputs": [],
   "source": [
    "# Elemnt wise Multiplication"
   ]
  },
  {
   "cell_type": "code",
   "execution_count": 8,
   "id": "fc39fb49-1a25-4ea0-9c18-487e1293efaa",
   "metadata": {},
   "outputs": [
    {
     "data": {
      "text/plain": [
       "array([[40,  0,  3, 18],\n",
       "       [49, 63, 24,  5],\n",
       "       [10, 36, 56, 54]], dtype=int32)"
      ]
     },
     "execution_count": 8,
     "metadata": {},
     "output_type": "execute_result"
    }
   ],
   "source": [
    "matrix_1 * matrix_2"
   ]
  },
  {
   "cell_type": "code",
   "execution_count": 9,
   "id": "81007acb-57ea-498f-bbca-6ef57f84b1b5",
   "metadata": {},
   "outputs": [],
   "source": [
    "# Dot Multiplication      >> M1(r1,c1).M2(r2,c2)   Here must be c1==r2"
   ]
  },
  {
   "cell_type": "code",
   "execution_count": 12,
   "id": "18c63030-d3a8-4a12-8301-e51c28329761",
   "metadata": {},
   "outputs": [
    {
     "data": {
      "text/plain": [
       "array([[ 61,  62,  76],\n",
       "       [161, 141, 185],\n",
       "       [ 91, 104, 156]], dtype=int32)"
      ]
     },
     "execution_count": 12,
     "metadata": {},
     "output_type": "execute_result"
    }
   ],
   "source": [
    "matrix_1.dot(matrix_2.T)     # Took Transpose of M2 as c1!=r2"
   ]
  },
  {
   "cell_type": "code",
   "execution_count": null,
   "id": "a7f9db12-125f-45cb-81c3-4f2f6905df80",
   "metadata": {},
   "outputs": [],
   "source": []
  }
 ],
 "metadata": {
  "kernelspec": {
   "display_name": "Python 3 (ipykernel)",
   "language": "python",
   "name": "python3"
  },
  "language_info": {
   "codemirror_mode": {
    "name": "ipython",
    "version": 3
   },
   "file_extension": ".py",
   "mimetype": "text/x-python",
   "name": "python",
   "nbconvert_exporter": "python",
   "pygments_lexer": "ipython3",
   "version": "3.13.5"
  }
 },
 "nbformat": 4,
 "nbformat_minor": 5
}
