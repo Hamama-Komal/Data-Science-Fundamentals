{
 "cells": [
  {
   "cell_type": "code",
   "execution_count": 17,
   "id": "bbd39023-3f31-4182-b32b-d0f231a8a7f2",
   "metadata": {},
   "outputs": [],
   "source": [
    "import numpy as np      "
   ]
  },
  {
   "cell_type": "code",
   "execution_count": 18,
   "id": "ff436644-f53b-438e-95a6-61573976494d",
   "metadata": {},
   "outputs": [],
   "source": [
    "arr_1_dem = np.array([1,2,3,4,5])"
   ]
  },
  {
   "cell_type": "code",
   "execution_count": 19,
   "id": "1572d8ad-0559-4eaa-873b-459e4423dd5b",
   "metadata": {},
   "outputs": [],
   "source": [
    "# Mean: Average Value  (Formula: x =  Sum of all values/N Here N is the number of tatal values)"
   ]
  },
  {
   "cell_type": "code",
   "execution_count": 20,
   "id": "bacf35e2-adb6-4386-a203-b4aa22264fd6",
   "metadata": {},
   "outputs": [
    {
     "data": {
      "text/plain": [
       "np.float64(3.0)"
      ]
     },
     "execution_count": 20,
     "metadata": {},
     "output_type": "execute_result"
    }
   ],
   "source": [
    "np.mean(arr_1_dem)"
   ]
  },
  {
   "cell_type": "code",
   "execution_count": 21,
   "id": "c0994064-5e16-4a0f-8a6a-6a4869a15fe1",
   "metadata": {},
   "outputs": [],
   "source": [
    "# Variance: Distance of a point from the mean value     (Formula: var = X - x/N, Here X that point, x mean and N number of total vaues)  "
   ]
  },
  {
   "cell_type": "code",
   "execution_count": 22,
   "id": "c69d6902-1abb-41fe-b114-a82aeb1e22fa",
   "metadata": {},
   "outputs": [
    {
     "data": {
      "text/plain": [
       "np.float64(2.0)"
      ]
     },
     "execution_count": 22,
     "metadata": {},
     "output_type": "execute_result"
    }
   ],
   "source": [
    "np.var(arr_1_dem)"
   ]
  },
  {
   "cell_type": "code",
   "execution_count": 23,
   "id": "153b8e9d-f94f-46f0-bb56-6416c8697dc6",
   "metadata": {},
   "outputs": [],
   "source": [
    "# Standard Deviation: Square of the variance      (Formula: square root(var))"
   ]
  },
  {
   "cell_type": "code",
   "execution_count": 24,
   "id": "80533e48-6fb3-4a46-ba7a-dfa818e404b0",
   "metadata": {},
   "outputs": [
    {
     "data": {
      "text/plain": [
       "np.float64(1.4142135623730951)"
      ]
     },
     "execution_count": 24,
     "metadata": {},
     "output_type": "execute_result"
    }
   ],
   "source": [
    "np.sqrt(np.var(arr_1_dem))"
   ]
  },
  {
   "cell_type": "code",
   "execution_count": 25,
   "id": "422f44ed-4835-4bdb-9375-494da2d92ca0",
   "metadata": {},
   "outputs": [
    {
     "data": {
      "text/plain": [
       "np.float64(1.4142135623730951)"
      ]
     },
     "execution_count": 25,
     "metadata": {},
     "output_type": "execute_result"
    }
   ],
   "source": [
    "np.std(arr_1_dem)"
   ]
  }
 ],
 "metadata": {
  "kernelspec": {
   "display_name": "Python 3 (ipykernel)",
   "language": "python",
   "name": "python3"
  },
  "language_info": {
   "codemirror_mode": {
    "name": "ipython",
    "version": 3
   },
   "file_extension": ".py",
   "mimetype": "text/x-python",
   "name": "python",
   "nbconvert_exporter": "python",
   "pygments_lexer": "ipython3",
   "version": "3.13.5"
  }
 },
 "nbformat": 4,
 "nbformat_minor": 5
}
