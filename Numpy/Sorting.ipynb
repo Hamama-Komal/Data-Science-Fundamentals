{
 "cells": [
  {
   "cell_type": "code",
   "execution_count": 6,
   "id": "ee5c9e73-7488-425c-80cb-8df54beb15ab",
   "metadata": {},
   "outputs": [],
   "source": [
    "import numpy as np"
   ]
  },
  {
   "cell_type": "code",
   "execution_count": 7,
   "id": "9fd322c1-772f-42a1-8212-429584bde321",
   "metadata": {},
   "outputs": [],
   "source": [
    "arr = np.random.seed(seed=0)\n",
    "arr = np.random.randint(20, size =(5,3))"
   ]
  },
  {
   "cell_type": "code",
   "execution_count": 8,
   "id": "cd10b3f6-2152-4834-816c-8304e7312991",
   "metadata": {},
   "outputs": [
    {
     "data": {
      "text/plain": [
       "array([[12, 15,  0],\n",
       "       [ 3,  3,  7],\n",
       "       [ 9, 19, 18],\n",
       "       [ 4,  6, 12],\n",
       "       [ 1,  6,  7]], dtype=int32)"
      ]
     },
     "execution_count": 8,
     "metadata": {},
     "output_type": "execute_result"
    }
   ],
   "source": [
    "arr"
   ]
  },
  {
   "cell_type": "code",
   "execution_count": 9,
   "id": "b9a8a2f7-1a4b-4608-a6aa-769ffb3d4976",
   "metadata": {},
   "outputs": [],
   "source": [
    "# Sorting"
   ]
  },
  {
   "cell_type": "code",
   "execution_count": 10,
   "id": "0528d1e8-b381-4a91-88cf-f880842c1fdf",
   "metadata": {},
   "outputs": [
    {
     "data": {
      "text/plain": [
       "array([[ 0, 12, 15],\n",
       "       [ 3,  3,  7],\n",
       "       [ 9, 18, 19],\n",
       "       [ 4,  6, 12],\n",
       "       [ 1,  6,  7]], dtype=int32)"
      ]
     },
     "execution_count": 10,
     "metadata": {},
     "output_type": "execute_result"
    }
   ],
   "source": [
    "np.sort(arr)       # by default it sort the rows"
   ]
  },
  {
   "cell_type": "code",
   "execution_count": 11,
   "id": "8dac7274-6a77-4e6a-8477-1e22f53c7263",
   "metadata": {},
   "outputs": [
    {
     "data": {
      "text/plain": [
       "array([[ 0, 12, 15],\n",
       "       [ 3,  3,  7],\n",
       "       [ 9, 18, 19],\n",
       "       [ 4,  6, 12],\n",
       "       [ 1,  6,  7]], dtype=int32)"
      ]
     },
     "execution_count": 11,
     "metadata": {},
     "output_type": "execute_result"
    }
   ],
   "source": [
    "np.sort(arr, axis = 1)     # axis =1 for sorting rows"
   ]
  },
  {
   "cell_type": "code",
   "execution_count": 12,
   "id": "4dc10bf5-0fa1-4123-a491-40ede6be763a",
   "metadata": {},
   "outputs": [
    {
     "data": {
      "text/plain": [
       "array([[ 1,  3,  0],\n",
       "       [ 3,  6,  7],\n",
       "       [ 4,  6,  7],\n",
       "       [ 9, 15, 12],\n",
       "       [12, 19, 18]], dtype=int32)"
      ]
     },
     "execution_count": 12,
     "metadata": {},
     "output_type": "execute_result"
    }
   ],
   "source": [
    "np.sort(arr, axis = 0)   # axis = 0 for sorting columns"
   ]
  },
  {
   "cell_type": "code",
   "execution_count": 13,
   "id": "37eb57fc-4edd-4289-b7b6-742fe28411fe",
   "metadata": {},
   "outputs": [
    {
     "data": {
      "text/plain": [
       "array([[2, 0, 1],\n",
       "       [0, 1, 2],\n",
       "       [0, 2, 1],\n",
       "       [0, 1, 2],\n",
       "       [0, 1, 2]])"
      ]
     },
     "execution_count": 13,
     "metadata": {},
     "output_type": "execute_result"
    }
   ],
   "source": [
    "np.argsort(arr)  # it give the sorting index number\""
   ]
  },
  {
   "cell_type": "code",
   "execution_count": 14,
   "id": "56eb7eae-45c1-4662-a19c-3fadff94d2da",
   "metadata": {},
   "outputs": [
    {
     "data": {
      "text/plain": [
       "np.int64(2)"
      ]
     },
     "execution_count": 14,
     "metadata": {},
     "output_type": "execute_result"
    }
   ],
   "source": [
    "np.argmin(arr)  # give the index of smallest number"
   ]
  },
  {
   "cell_type": "code",
   "execution_count": 15,
   "id": "b16cc65b-dcd3-4c81-aee3-994668bf9313",
   "metadata": {},
   "outputs": [
    {
     "data": {
      "text/plain": [
       "array([2, 0, 0, 0, 0])"
      ]
     },
     "execution_count": 15,
     "metadata": {},
     "output_type": "execute_result"
    }
   ],
   "source": [
    "np.argmin(arr, axis = 1) # give the index of smallest number in each row"
   ]
  },
  {
   "cell_type": "code",
   "execution_count": 16,
   "id": "8e4690eb-990a-4c5a-a3aa-ea6b0fcc7a05",
   "metadata": {},
   "outputs": [
    {
     "data": {
      "text/plain": [
       "array([4, 1, 0])"
      ]
     },
     "execution_count": 16,
     "metadata": {},
     "output_type": "execute_result"
    }
   ],
   "source": [
    "np.argmin(arr, axis = 0) # give the index of smallest number in coumn"
   ]
  },
  {
   "cell_type": "code",
   "execution_count": 19,
   "id": "51c60af1-2ca9-4e01-8695-82a6f936aa43",
   "metadata": {},
   "outputs": [
    {
     "data": {
      "text/plain": [
       "array([1, 2, 1, 2, 2])"
      ]
     },
     "execution_count": 19,
     "metadata": {},
     "output_type": "execute_result"
    }
   ],
   "source": [
    "np.argmax(arr, axis = 1)  # give the index of largest number in each row"
   ]
  },
  {
   "cell_type": "code",
   "execution_count": 20,
   "id": "6d9d64c2-430b-4b86-a9d5-79e41b8ebb9a",
   "metadata": {},
   "outputs": [
    {
     "data": {
      "text/plain": [
       "array([0, 2, 2])"
      ]
     },
     "execution_count": 20,
     "metadata": {},
     "output_type": "execute_result"
    }
   ],
   "source": [
    "np.argmax(arr, axis = 0)   # give the index of largest number in column"
   ]
  }
 ],
 "metadata": {
  "kernelspec": {
   "display_name": "Python 3 (ipykernel)",
   "language": "python",
   "name": "python3"
  },
  "language_info": {
   "codemirror_mode": {
    "name": "ipython",
    "version": 3
   },
   "file_extension": ".py",
   "mimetype": "text/x-python",
   "name": "python",
   "nbconvert_exporter": "python",
   "pygments_lexer": "ipython3",
   "version": "3.13.5"
  }
 },
 "nbformat": 4,
 "nbformat_minor": 5
}
