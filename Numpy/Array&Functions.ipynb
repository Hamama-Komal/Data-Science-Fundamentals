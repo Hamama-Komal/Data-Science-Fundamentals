{
 "cells": [
  {
   "cell_type": "code",
   "execution_count": 1,
   "id": "0e2d5482-f298-46bd-8a73-ea42d693de6f",
   "metadata": {},
   "outputs": [],
   "source": [
    "import numpy as np"
   ]
  },
  {
   "cell_type": "code",
   "execution_count": 2,
   "id": "4be85ff7-159b-484a-9a10-0b371bbdab79",
   "metadata": {},
   "outputs": [],
   "source": [
    "# Arrays"
   ]
  },
  {
   "cell_type": "code",
   "execution_count": 3,
   "id": "472e5231-4cd8-4636-abe7-6a0d5267662b",
   "metadata": {},
   "outputs": [],
   "source": [
    "# 1-Dimensional Array (Vector)"
   ]
  },
  {
   "cell_type": "code",
   "execution_count": 4,
   "id": "781200f3-3c9e-4291-b995-6db56c6cea6b",
   "metadata": {},
   "outputs": [],
   "source": [
    "arr_1_dem = np.array([1,2,3,4,5])"
   ]
  },
  {
   "cell_type": "code",
   "execution_count": 5,
   "id": "f9cb7014-aab0-423e-af4b-3a3feba2cfb5",
   "metadata": {},
   "outputs": [
    {
     "data": {
      "text/plain": [
       "array([1, 2, 3, 4, 5])"
      ]
     },
     "execution_count": 5,
     "metadata": {},
     "output_type": "execute_result"
    }
   ],
   "source": [
    "arr_1_dem"
   ]
  },
  {
   "cell_type": "code",
   "execution_count": 6,
   "id": "67e2b652-680e-4a43-8535-888582729a35",
   "metadata": {},
   "outputs": [],
   "source": [
    "# 2-Dimensional Array (Matrix)"
   ]
  },
  {
   "cell_type": "code",
   "execution_count": 7,
   "id": "119d8eba-e058-4100-b6ba-182677839ad5",
   "metadata": {},
   "outputs": [],
   "source": [
    "arr_2_dem = np.array([[1,2,3,4],[5,6,7,8]])"
   ]
  },
  {
   "cell_type": "code",
   "execution_count": 8,
   "id": "0802e169-a95c-4b6b-a1e0-15e428621f9b",
   "metadata": {},
   "outputs": [
    {
     "data": {
      "text/plain": [
       "array([[1, 2, 3, 4],\n",
       "       [5, 6, 7, 8]])"
      ]
     },
     "execution_count": 8,
     "metadata": {},
     "output_type": "execute_result"
    }
   ],
   "source": [
    "arr_2_dem"
   ]
  },
  {
   "cell_type": "code",
   "execution_count": 9,
   "id": "65880b2b-6eb5-435e-ac28-5e60734ac612",
   "metadata": {},
   "outputs": [],
   "source": [
    "# 3-Dimensional Array  (Matrix)   < -- (Two 2D array combines to form the 3D array)  "
   ]
  },
  {
   "cell_type": "code",
   "execution_count": 10,
   "id": "63f330ff-b5e8-4628-bc77-a35b6ea9b8f4",
   "metadata": {},
   "outputs": [],
   "source": [
    "arr_3_dem = np.array([[[1,2,3],[4,5,6], [7,8,9]],[[11,12,13],[14,15,16], [17,18,19]]])"
   ]
  },
  {
   "cell_type": "code",
   "execution_count": 11,
   "id": "1e862f1d-8b67-4cb1-a7d3-85f57af3399c",
   "metadata": {},
   "outputs": [
    {
     "data": {
      "text/plain": [
       "array([[[ 1,  2,  3],\n",
       "        [ 4,  5,  6],\n",
       "        [ 7,  8,  9]],\n",
       "\n",
       "       [[11, 12, 13],\n",
       "        [14, 15, 16],\n",
       "        [17, 18, 19]]])"
      ]
     },
     "execution_count": 11,
     "metadata": {},
     "output_type": "execute_result"
    }
   ],
   "source": [
    "arr_3_dem"
   ]
  },
  {
   "cell_type": "code",
   "execution_count": 12,
   "id": "bec08db4-f49d-4267-ae76-d4be5c869891",
   "metadata": {},
   "outputs": [],
   "source": [
    "# Shape of Array"
   ]
  },
  {
   "cell_type": "code",
   "execution_count": 13,
   "id": "940d138e-8145-49a5-9160-11ed26d7f3ea",
   "metadata": {},
   "outputs": [
    {
     "data": {
      "text/plain": [
       "(2, 3, 3)"
      ]
     },
     "execution_count": 13,
     "metadata": {},
     "output_type": "execute_result"
    }
   ],
   "source": [
    "arr_3_dem.shape"
   ]
  },
  {
   "cell_type": "code",
   "execution_count": 14,
   "id": "d5e2da11-85ef-40f7-8c9f-c3ae0c72bebf",
   "metadata": {},
   "outputs": [],
   "source": [
    "# (2,3,3) ==> It shows we have 2 Matrix of 3x3 (3 Rows, 3 Columns)"
   ]
  },
  {
   "cell_type": "code",
   "execution_count": 15,
   "id": "b244c86a-01be-478d-97d0-c1d7cfe3be84",
   "metadata": {},
   "outputs": [
    {
     "data": {
      "text/plain": [
       "(2, 4)"
      ]
     },
     "execution_count": 15,
     "metadata": {},
     "output_type": "execute_result"
    }
   ],
   "source": [
    "arr_2_dem.shape"
   ]
  },
  {
   "cell_type": "code",
   "execution_count": 16,
   "id": "3a1b8a83-3b8b-4362-9abc-2f52aec61a26",
   "metadata": {},
   "outputs": [],
   "source": [
    "# (2,4)   ==> 2x4 Matrix (2 Rows, 4 Columns)"
   ]
  },
  {
   "cell_type": "code",
   "execution_count": 17,
   "id": "1f742cdf-e65f-4c9e-85f3-8e586135aa42",
   "metadata": {},
   "outputs": [
    {
     "data": {
      "text/plain": [
       "(5,)"
      ]
     },
     "execution_count": 17,
     "metadata": {},
     "output_type": "execute_result"
    }
   ],
   "source": [
    "arr_1_dem.shape"
   ]
  },
  {
   "cell_type": "code",
   "execution_count": 18,
   "id": "b7591a1c-bf32-4293-af6e-dff407165b4d",
   "metadata": {},
   "outputs": [],
   "source": [
    "# (5,) ==> 5 no. of rows"
   ]
  },
  {
   "cell_type": "code",
   "execution_count": 19,
   "id": "02b615a4-cf5d-4ca9-b6d7-d6f34a2dd81d",
   "metadata": {},
   "outputs": [],
   "source": [
    " # Functions on Array"
   ]
  },
  {
   "cell_type": "code",
   "execution_count": 20,
   "id": "34f6507f-be7a-4131-98c2-ab5352a7a728",
   "metadata": {},
   "outputs": [],
   "source": [
    "# ndim : No. of dimensions"
   ]
  },
  {
   "cell_type": "code",
   "execution_count": 21,
   "id": "820e99fe-2954-4a48-b7ba-8e360dd3a701",
   "metadata": {},
   "outputs": [
    {
     "data": {
      "text/plain": [
       "3"
      ]
     },
     "execution_count": 21,
     "metadata": {},
     "output_type": "execute_result"
    }
   ],
   "source": [
    "arr_3_dem.ndim"
   ]
  },
  {
   "cell_type": "code",
   "execution_count": 22,
   "id": "b0df5378-31a0-48df-ab29-8ac74bb1b01c",
   "metadata": {},
   "outputs": [
    {
     "data": {
      "text/plain": [
       "2"
      ]
     },
     "execution_count": 22,
     "metadata": {},
     "output_type": "execute_result"
    }
   ],
   "source": [
    "arr_2_dem.ndim"
   ]
  },
  {
   "cell_type": "code",
   "execution_count": 23,
   "id": "c1ae1767-6987-4d75-957d-4df04dcf73ce",
   "metadata": {},
   "outputs": [
    {
     "data": {
      "text/plain": [
       "1"
      ]
     },
     "execution_count": 23,
     "metadata": {},
     "output_type": "execute_result"
    }
   ],
   "source": [
    "arr_1_dem.ndim"
   ]
  },
  {
   "cell_type": "code",
   "execution_count": 24,
   "id": "a343f15c-b25f-477b-98f6-48134243d98b",
   "metadata": {},
   "outputs": [],
   "source": [
    "# dtype: Define the data type of array"
   ]
  },
  {
   "cell_type": "code",
   "execution_count": 25,
   "id": "5beffdd8-6d73-4059-bc37-9133b5e8c26f",
   "metadata": {},
   "outputs": [
    {
     "data": {
      "text/plain": [
       "dtype('int64')"
      ]
     },
     "execution_count": 25,
     "metadata": {},
     "output_type": "execute_result"
    }
   ],
   "source": [
    "arr_3_dem.dtype"
   ]
  },
  {
   "cell_type": "code",
   "execution_count": 26,
   "id": "e92fc1b5-5d38-41ba-af81-027387b8e327",
   "metadata": {},
   "outputs": [],
   "source": [
    "# size: No. of enteries in a array"
   ]
  },
  {
   "cell_type": "code",
   "execution_count": 27,
   "id": "b8aee205-0f43-4024-b656-3c81cfd9a9d9",
   "metadata": {},
   "outputs": [
    {
     "data": {
      "text/plain": [
       "18"
      ]
     },
     "execution_count": 27,
     "metadata": {},
     "output_type": "execute_result"
    }
   ],
   "source": [
    "arr_3_dem.size"
   ]
  },
  {
   "cell_type": "code",
   "execution_count": 28,
   "id": "9b3442be-9831-40e1-bb7b-e426a7deab55",
   "metadata": {},
   "outputs": [],
   "source": [
    "# type() : Define the type of array"
   ]
  },
  {
   "cell_type": "code",
   "execution_count": 29,
   "id": "8147638b-22c9-46c9-bb5d-407baa5b9b11",
   "metadata": {},
   "outputs": [
    {
     "data": {
      "text/plain": [
       "numpy.ndarray"
      ]
     },
     "execution_count": 29,
     "metadata": {},
     "output_type": "execute_result"
    }
   ],
   "source": [
    "type(arr_3_dem)"
   ]
  },
  {
   "cell_type": "code",
   "execution_count": 30,
   "id": "a293758f-1c24-4211-b49f-9a4f054ca7af",
   "metadata": {},
   "outputs": [],
   "source": [
    "# Creating a data frame from the matrix"
   ]
  },
  {
   "cell_type": "code",
   "execution_count": 31,
   "id": "cf07930b-9f6c-46fd-a041-8b9b5f01d586",
   "metadata": {},
   "outputs": [],
   "source": [
    "import pandas as pd"
   ]
  },
  {
   "cell_type": "code",
   "execution_count": 32,
   "id": "b0374e54-a2dc-4c8c-b08b-0324fd64dfb8",
   "metadata": {},
   "outputs": [],
   "source": [
    "df = pd.DataFrame(arr_2_dem)"
   ]
  },
  {
   "cell_type": "code",
   "execution_count": 33,
   "id": "d4bf379c-32e0-4872-9878-9a6034fce7a2",
   "metadata": {},
   "outputs": [
    {
     "data": {
      "text/html": [
       "<div>\n",
       "<style scoped>\n",
       "    .dataframe tbody tr th:only-of-type {\n",
       "        vertical-align: middle;\n",
       "    }\n",
       "\n",
       "    .dataframe tbody tr th {\n",
       "        vertical-align: top;\n",
       "    }\n",
       "\n",
       "    .dataframe thead th {\n",
       "        text-align: right;\n",
       "    }\n",
       "</style>\n",
       "<table border=\"1\" class=\"dataframe\">\n",
       "  <thead>\n",
       "    <tr style=\"text-align: right;\">\n",
       "      <th></th>\n",
       "      <th>0</th>\n",
       "      <th>1</th>\n",
       "      <th>2</th>\n",
       "      <th>3</th>\n",
       "    </tr>\n",
       "  </thead>\n",
       "  <tbody>\n",
       "    <tr>\n",
       "      <th>0</th>\n",
       "      <td>1</td>\n",
       "      <td>2</td>\n",
       "      <td>3</td>\n",
       "      <td>4</td>\n",
       "    </tr>\n",
       "    <tr>\n",
       "      <th>1</th>\n",
       "      <td>5</td>\n",
       "      <td>6</td>\n",
       "      <td>7</td>\n",
       "      <td>8</td>\n",
       "    </tr>\n",
       "  </tbody>\n",
       "</table>\n",
       "</div>"
      ],
      "text/plain": [
       "   0  1  2  3\n",
       "0  1  2  3  4\n",
       "1  5  6  7  8"
      ]
     },
     "execution_count": 33,
     "metadata": {},
     "output_type": "execute_result"
    }
   ],
   "source": [
    "df"
   ]
  },
  {
   "cell_type": "code",
   "execution_count": 34,
   "id": "97317453-4482-495f-9747-a0de205fe393",
   "metadata": {},
   "outputs": [],
   "source": [
    "# Creating Numpy Array"
   ]
  },
  {
   "cell_type": "code",
   "execution_count": 35,
   "id": "62a26355-4996-4bf4-8e13-a8214855c0f6",
   "metadata": {},
   "outputs": [],
   "source": [
    "array = np.array([1,2,3,4,5])"
   ]
  },
  {
   "cell_type": "code",
   "execution_count": 36,
   "id": "4ebd72b3-d6ce-4252-932f-84268e572df6",
   "metadata": {},
   "outputs": [
    {
     "data": {
      "text/plain": [
       "array([1, 2, 3, 4, 5])"
      ]
     },
     "execution_count": 36,
     "metadata": {},
     "output_type": "execute_result"
    }
   ],
   "source": [
    "array"
   ]
  },
  {
   "cell_type": "code",
   "execution_count": 37,
   "id": "120287ed-1df5-49b2-bfe7-ba7fd7630aac",
   "metadata": {},
   "outputs": [],
   "source": [
    "# We can create a array of 3 types automatically. But they contain 1s, 0s or random numbers"
   ]
  },
  {
   "cell_type": "code",
   "execution_count": 38,
   "id": "da741129-2b6d-4745-9a23-cbe53f0157be",
   "metadata": {},
   "outputs": [],
   "source": [
    "# 1) Ones array ==> Values and its data type is float"
   ]
  },
  {
   "cell_type": "code",
   "execution_count": 39,
   "id": "6c1559f4-4852-47df-81d0-fcb84c99d471",
   "metadata": {},
   "outputs": [],
   "source": [
    "ones_arr = np.ones((4,5))"
   ]
  },
  {
   "cell_type": "code",
   "execution_count": 40,
   "id": "d16c81c4-7418-41e2-94bf-961ff305e78d",
   "metadata": {},
   "outputs": [
    {
     "data": {
      "text/plain": [
       "array([[1., 1., 1., 1., 1.],\n",
       "       [1., 1., 1., 1., 1.],\n",
       "       [1., 1., 1., 1., 1.],\n",
       "       [1., 1., 1., 1., 1.]])"
      ]
     },
     "execution_count": 40,
     "metadata": {},
     "output_type": "execute_result"
    }
   ],
   "source": [
    "ones_arr"
   ]
  },
  {
   "cell_type": "code",
   "execution_count": 41,
   "id": "a115a580-6c73-4ed0-878f-6f77a342c6c2",
   "metadata": {},
   "outputs": [],
   "source": [
    "# 2) Zeros array ==> Values and its data type is float"
   ]
  },
  {
   "cell_type": "code",
   "execution_count": 42,
   "id": "b24376ce-e0bb-4a06-804f-d6d238581df0",
   "metadata": {},
   "outputs": [],
   "source": [
    "zeros_arr = np.zeros((2,3))"
   ]
  },
  {
   "cell_type": "code",
   "execution_count": 43,
   "id": "e10ebc9e-fe7b-4b71-9fbc-9a1b8d665205",
   "metadata": {},
   "outputs": [
    {
     "data": {
      "text/plain": [
       "array([[0., 0., 0.],\n",
       "       [0., 0., 0.]])"
      ]
     },
     "execution_count": 43,
     "metadata": {},
     "output_type": "execute_result"
    }
   ],
   "source": [
    "zeros_arr"
   ]
  },
  {
   "cell_type": "code",
   "execution_count": 44,
   "id": "204d6105-3fbf-42a6-88cc-5caa814aebb6",
   "metadata": {},
   "outputs": [],
   "source": [
    "# range(): range(start value, end value, step size)"
   ]
  },
  {
   "cell_type": "code",
   "execution_count": 45,
   "id": "27ed3d0f-cc01-49ea-a03a-2af0a8ed7f1e",
   "metadata": {},
   "outputs": [],
   "source": [
    "range_arr = np.arange(0,15,2)"
   ]
  },
  {
   "cell_type": "code",
   "execution_count": 46,
   "id": "1e2a0441-c312-4ccd-936f-32f2edeb5ee7",
   "metadata": {},
   "outputs": [
    {
     "data": {
      "text/plain": [
       "array([ 0,  2,  4,  6,  8, 10, 12, 14])"
      ]
     },
     "execution_count": 46,
     "metadata": {},
     "output_type": "execute_result"
    }
   ],
   "source": [
    "range_arr "
   ]
  },
  {
   "cell_type": "code",
   "execution_count": 47,
   "id": "fdc8186b-3d66-471f-9ca6-5050b314c2d7",
   "metadata": {},
   "outputs": [],
   "source": [
    "# 3) Random(): random.randint(starting value, ending value, size of matrix)"
   ]
  },
  {
   "cell_type": "code",
   "execution_count": 48,
   "id": "cd822183-ac93-4fa7-b917-60653ec66048",
   "metadata": {},
   "outputs": [],
   "source": [
    "random_arr = np.random.randint(2,16, size = (3,5))"
   ]
  },
  {
   "cell_type": "code",
   "execution_count": 49,
   "id": "192a3489-0f0c-4b6c-a9dc-1811f87701d2",
   "metadata": {},
   "outputs": [
    {
     "data": {
      "text/plain": [
       "array([[15, 14,  5,  4, 10],\n",
       "       [13, 12, 14,  8,  6],\n",
       "       [ 3,  6,  5, 11,  3]], dtype=int32)"
      ]
     },
     "execution_count": 49,
     "metadata": {},
     "output_type": "execute_result"
    }
   ],
   "source": [
    "random_arr"
   ]
  },
  {
   "cell_type": "code",
   "execution_count": 50,
   "id": "7ca19467-b20c-48aa-8774-fbec81065126",
   "metadata": {},
   "outputs": [],
   "source": [
    "# rand: its range is auto set from 0 to 1"
   ]
  },
  {
   "cell_type": "code",
   "execution_count": 51,
   "id": "1f8fd33b-fc55-4bd2-aa38-ed2ab9204016",
   "metadata": {},
   "outputs": [],
   "source": [
    "rand_arr = np.random.rand(3,5)"
   ]
  },
  {
   "cell_type": "code",
   "execution_count": 52,
   "id": "6bd4ba60-155a-4436-908e-00557614cc31",
   "metadata": {},
   "outputs": [
    {
     "data": {
      "text/plain": [
       "array([[0.95083359, 0.89143047, 0.20627124, 0.10122728, 0.02089934],\n",
       "       [0.03363632, 0.60576439, 0.84202086, 0.33046988, 0.41163361],\n",
       "       [0.72144431, 0.88254622, 0.29377293, 0.57022322, 0.57758885]])"
      ]
     },
     "execution_count": 52,
     "metadata": {},
     "output_type": "execute_result"
    }
   ],
   "source": [
    "rand_arr"
   ]
  },
  {
   "cell_type": "code",
   "execution_count": 53,
   "id": "dc837b05-67b5-41ab-87b2-b2cd5554a566",
   "metadata": {},
   "outputs": [],
   "source": [
    "# seed(): used to lock the value"
   ]
  },
  {
   "cell_type": "code",
   "execution_count": 54,
   "id": "2c7aeb78-283d-429f-9bf8-8b38a2733414",
   "metadata": {},
   "outputs": [
    {
     "data": {
      "text/plain": [
       "np.float64(7.439762498208784)"
      ]
     },
     "execution_count": 54,
     "metadata": {},
     "output_type": "execute_result"
    }
   ],
   "source": [
    "rand_arr.sum()      # >> Its sum is keep chnaging everytime when we run the file"
   ]
  },
  {
   "cell_type": "code",
   "execution_count": 55,
   "id": "c9165ff2-c2ca-41b8-90df-cc8f8d8f8497",
   "metadata": {},
   "outputs": [],
   "source": [
    "np.random.seed(seed = 0)\n",
    "seed_rand_arr = np.random.rand(4,5)"
   ]
  },
  {
   "cell_type": "code",
   "execution_count": 56,
   "id": "a075f224-8541-448e-8a42-bf4b292303fb",
   "metadata": {},
   "outputs": [
    {
     "data": {
      "text/plain": [
       "array([[0.5488135 , 0.71518937, 0.60276338, 0.54488318, 0.4236548 ],\n",
       "       [0.64589411, 0.43758721, 0.891773  , 0.96366276, 0.38344152],\n",
       "       [0.79172504, 0.52889492, 0.56804456, 0.92559664, 0.07103606],\n",
       "       [0.0871293 , 0.0202184 , 0.83261985, 0.77815675, 0.87001215]])"
      ]
     },
     "execution_count": 56,
     "metadata": {},
     "output_type": "execute_result"
    }
   ],
   "source": [
    "seed_rand_arr"
   ]
  },
  {
   "cell_type": "code",
   "execution_count": 57,
   "id": "3c521ab7-94f9-4ef9-8e53-15b6d4b7b913",
   "metadata": {},
   "outputs": [
    {
     "data": {
      "text/plain": [
       "np.float64(11.63109649045195)"
      ]
     },
     "execution_count": 57,
     "metadata": {},
     "output_type": "execute_result"
    }
   ],
   "source": [
    "seed_rand_arr.sum()   # Now, it's sum and values are fix"
   ]
  },
  {
   "cell_type": "code",
   "execution_count": 58,
   "id": "2e725ef8-af37-4122-8dbf-0d53b5f43c17",
   "metadata": {},
   "outputs": [],
   "source": [
    "# Accessing Element of Matrix"
   ]
  },
  {
   "cell_type": "code",
   "execution_count": 59,
   "id": "69589b8c-be70-4407-8c34-57f2cde95258",
   "metadata": {},
   "outputs": [
    {
     "data": {
      "text/plain": [
       "array([1, 2, 3, 4])"
      ]
     },
     "execution_count": 59,
     "metadata": {},
     "output_type": "execute_result"
    }
   ],
   "source": [
    "arr_2_dem[0]"
   ]
  },
  {
   "cell_type": "code",
   "execution_count": 60,
   "id": "60849597-e0a3-4ca9-bb9b-2f058f1e6a54",
   "metadata": {},
   "outputs": [
    {
     "data": {
      "text/plain": [
       "array([5, 6, 7, 8])"
      ]
     },
     "execution_count": 60,
     "metadata": {},
     "output_type": "execute_result"
    }
   ],
   "source": [
    "arr_2_dem[1]"
   ]
  },
  {
   "cell_type": "code",
   "execution_count": 61,
   "id": "26fcea85-0e6e-428b-aa21-5161594f7b54",
   "metadata": {},
   "outputs": [
    {
     "data": {
      "text/plain": [
       "array([[11, 12, 13],\n",
       "       [14, 15, 16],\n",
       "       [17, 18, 19]])"
      ]
     },
     "execution_count": 61,
     "metadata": {},
     "output_type": "execute_result"
    }
   ],
   "source": [
    "arr_3_dem[1]"
   ]
  },
  {
   "cell_type": "code",
   "execution_count": 62,
   "id": "a830c484-c1d7-4d7b-a032-3bbe344b436b",
   "metadata": {},
   "outputs": [
    {
     "data": {
      "text/plain": [
       "array([[1, 2, 3],\n",
       "       [4, 5, 6],\n",
       "       [7, 8, 9]])"
      ]
     },
     "execution_count": 62,
     "metadata": {},
     "output_type": "execute_result"
    }
   ],
   "source": [
    "arr_3_dem[0]"
   ]
  },
  {
   "cell_type": "code",
   "execution_count": 63,
   "id": "f9a227f1-8964-479d-a274-ec228efcf742",
   "metadata": {},
   "outputs": [],
   "source": [
    "# Slicing of matrix  >> [index, row, column]"
   ]
  },
  {
   "cell_type": "code",
   "execution_count": 64,
   "id": "a489d2da-c616-45fa-bffd-2265b03fdc76",
   "metadata": {},
   "outputs": [
    {
     "data": {
      "text/plain": [
       "array([[[1, 2, 3],\n",
       "        [4, 5, 6],\n",
       "        [7, 8, 9]]])"
      ]
     },
     "execution_count": 64,
     "metadata": {},
     "output_type": "execute_result"
    }
   ],
   "source": [
    "arr_3_dem[:1]      # show 1 2D array"
   ]
  },
  {
   "cell_type": "code",
   "execution_count": 65,
   "id": "2f2615f0-3782-44b2-8331-12edd9f0149c",
   "metadata": {},
   "outputs": [
    {
     "data": {
      "text/plain": [
       "array([[[ 1,  2,  3]],\n",
       "\n",
       "       [[11, 12, 13]]])"
      ]
     },
     "execution_count": 65,
     "metadata": {},
     "output_type": "execute_result"
    }
   ],
   "source": [
    "arr_3_dem[:2, :1]   # show 1 Row"
   ]
  },
  {
   "cell_type": "code",
   "execution_count": 66,
   "id": "7e1ea84f-0fce-409b-89e0-ec3b2c805abb",
   "metadata": {},
   "outputs": [
    {
     "data": {
      "text/plain": [
       "array([[[ 1,  2]],\n",
       "\n",
       "       [[11, 12]]])"
      ]
     },
     "execution_count": 66,
     "metadata": {},
     "output_type": "execute_result"
    }
   ],
   "source": [
    "arr_3_dem[:2, :1, :2]   # show 2 Coulmn"
   ]
  },
  {
   "cell_type": "code",
   "execution_count": 67,
   "id": "b7c86a6b-449f-4eaf-8a0d-095e1d678a82",
   "metadata": {},
   "outputs": [],
   "source": [
    "random_arr = np.random.randint(10, size = (2,3,3,3))"
   ]
  },
  {
   "cell_type": "code",
   "execution_count": 68,
   "id": "f1ecf12d-2b63-4188-a83f-9cd542a96eeb",
   "metadata": {},
   "outputs": [
    {
     "data": {
      "text/plain": [
       "array([[[[2, 3, 8],\n",
       "         [1, 3, 3],\n",
       "         [3, 7, 0]],\n",
       "\n",
       "        [[1, 9, 9],\n",
       "         [0, 4, 7],\n",
       "         [3, 2, 7]],\n",
       "\n",
       "        [[2, 0, 0],\n",
       "         [4, 5, 5],\n",
       "         [6, 8, 4]]],\n",
       "\n",
       "\n",
       "       [[[1, 4, 9],\n",
       "         [8, 1, 1],\n",
       "         [7, 9, 9]],\n",
       "\n",
       "        [[3, 6, 7],\n",
       "         [2, 0, 3],\n",
       "         [5, 9, 4]],\n",
       "\n",
       "        [[4, 6, 4],\n",
       "         [4, 3, 4],\n",
       "         [4, 8, 4]]]], dtype=int32)"
      ]
     },
     "execution_count": 68,
     "metadata": {},
     "output_type": "execute_result"
    }
   ],
   "source": [
    "random_arr"
   ]
  },
  {
   "cell_type": "code",
   "execution_count": 69,
   "id": "811eec1a-5b50-4eb6-a309-3ce9beff27c2",
   "metadata": {},
   "outputs": [
    {
     "data": {
      "text/plain": [
       "array([[[[2]]]], dtype=int32)"
      ]
     },
     "execution_count": 69,
     "metadata": {},
     "output_type": "execute_result"
    }
   ],
   "source": [
    "random_arr[:1,:1,:1,:1]"
   ]
  },
  {
   "cell_type": "code",
   "execution_count": 70,
   "id": "899372f5-f0d2-4652-b053-31089ff4eeb1",
   "metadata": {},
   "outputs": [],
   "source": [
    " # Array Manipulation"
   ]
  },
  {
   "cell_type": "code",
   "execution_count": 71,
   "id": "a4903b93-c3b4-4fad-b3d1-a6933dc6d6c1",
   "metadata": {},
   "outputs": [
    {
     "data": {
      "text/plain": [
       "array([1, 2, 3, 4, 5])"
      ]
     },
     "execution_count": 71,
     "metadata": {},
     "output_type": "execute_result"
    }
   ],
   "source": [
    "arr_1_dem"
   ]
  },
  {
   "cell_type": "code",
   "execution_count": 72,
   "id": "92f05fef-81ff-4712-8d18-4750fb85923c",
   "metadata": {},
   "outputs": [
    {
     "data": {
      "text/plain": [
       "array([[1, 2, 3, 4],\n",
       "       [5, 6, 7, 8]])"
      ]
     },
     "execution_count": 72,
     "metadata": {},
     "output_type": "execute_result"
    }
   ],
   "source": [
    "arr_2_dem"
   ]
  },
  {
   "cell_type": "code",
   "execution_count": 73,
   "id": "e0a46e9f-228d-42ef-971e-d1a2a40194de",
   "metadata": {},
   "outputs": [],
   "source": [
    "# Addition"
   ]
  },
  {
   "cell_type": "code",
   "execution_count": 74,
   "id": "a6f7be26-2374-496b-a156-583b0ee7358f",
   "metadata": {},
   "outputs": [
    {
     "data": {
      "text/plain": [
       "array([[ 2,  4,  6,  8],\n",
       "       [ 6,  8, 10, 12]])"
      ]
     },
     "execution_count": 74,
     "metadata": {},
     "output_type": "execute_result"
    }
   ],
   "source": [
    "arr_1_dem[:4] + arr_2_dem  # Make sure that dimension must be same for broadcast(mapping)"
   ]
  },
  {
   "cell_type": "code",
   "execution_count": 75,
   "id": "1f8079d0-963d-41f9-94b1-054d6461fa0d",
   "metadata": {},
   "outputs": [
    {
     "data": {
      "text/plain": [
       "array([[ 2,  4,  6,  8],\n",
       "       [ 6,  8, 10, 12]])"
      ]
     },
     "execution_count": 75,
     "metadata": {},
     "output_type": "execute_result"
    }
   ],
   "source": [
    "np.add(arr_1_dem[:4], arr_2_dem )"
   ]
  },
  {
   "cell_type": "code",
   "execution_count": 76,
   "id": "86c09d22-748f-45b2-8acc-150925b93137",
   "metadata": {},
   "outputs": [],
   "source": [
    "# Subtraction"
   ]
  },
  {
   "cell_type": "code",
   "execution_count": 77,
   "id": "2d62f858-e213-4940-baa3-dc066aba9652",
   "metadata": {},
   "outputs": [
    {
     "data": {
      "text/plain": [
       "array([[ 0,  0,  0,  0],\n",
       "       [-4, -4, -4, -4]])"
      ]
     },
     "execution_count": 77,
     "metadata": {},
     "output_type": "execute_result"
    }
   ],
   "source": [
    "arr_1_dem[:4] - arr_2_dem "
   ]
  },
  {
   "cell_type": "code",
   "execution_count": 78,
   "id": "d4640b85-1758-4f4d-ac72-f6eed498bb1a",
   "metadata": {},
   "outputs": [],
   "source": [
    "# Multiplication"
   ]
  },
  {
   "cell_type": "code",
   "execution_count": 79,
   "id": "491033ce-70c6-4741-8ce7-2402c85b051e",
   "metadata": {},
   "outputs": [
    {
     "data": {
      "text/plain": [
       "array([[ 1,  4,  9, 16],\n",
       "       [ 5, 12, 21, 32]])"
      ]
     },
     "execution_count": 79,
     "metadata": {},
     "output_type": "execute_result"
    }
   ],
   "source": [
    "arr_1_dem[:4] * arr_2_dem "
   ]
  },
  {
   "cell_type": "code",
   "execution_count": 80,
   "id": "0fb1c177-a054-4844-9a5c-1351e8b2afeb",
   "metadata": {},
   "outputs": [],
   "source": [
    "# Divison"
   ]
  },
  {
   "cell_type": "code",
   "execution_count": 81,
   "id": "a9845f68-c924-437c-8cdf-622e0aa111cc",
   "metadata": {},
   "outputs": [
    {
     "data": {
      "text/plain": [
       "array([[[1.        , 1.        , 1.        ],\n",
       "        [1.25      , 1.2       , 1.16666667]],\n",
       "\n",
       "       [[0.09090909, 0.16666667, 0.23076923],\n",
       "        [0.35714286, 0.4       , 0.4375    ]]])"
      ]
     },
     "execution_count": 81,
     "metadata": {},
     "output_type": "execute_result"
    }
   ],
   "source": [
    "arr_2_dem[:2, :3] / arr_3_dem[:2, :2, :3]"
   ]
  },
  {
   "cell_type": "code",
   "execution_count": 82,
   "id": "5e823c67-ad05-4e98-8e6d-c2cd7d5fb84e",
   "metadata": {},
   "outputs": [],
   "source": [
    "# Round Off"
   ]
  },
  {
   "cell_type": "code",
   "execution_count": 83,
   "id": "e304da8b-3bdf-497d-b970-4290e73ee266",
   "metadata": {},
   "outputs": [
    {
     "data": {
      "text/plain": [
       "array([[[1, 1, 1],\n",
       "        [1, 1, 1]],\n",
       "\n",
       "       [[0, 0, 0],\n",
       "        [0, 0, 0]]])"
      ]
     },
     "execution_count": 83,
     "metadata": {},
     "output_type": "execute_result"
    }
   ],
   "source": [
    "arr_2_dem[:2, :3] // arr_3_dem[:2, :2, :3]"
   ]
  },
  {
   "cell_type": "code",
   "execution_count": 84,
   "id": "5d23724e-8d2a-454d-8b83-3f153e416b44",
   "metadata": {},
   "outputs": [],
   "source": [
    "# Power"
   ]
  },
  {
   "cell_type": "code",
   "execution_count": 85,
   "id": "3e1b8a4d-1a8f-4e79-b6c8-a0a612cd9272",
   "metadata": {},
   "outputs": [
    {
     "data": {
      "text/plain": [
       "array([[ 1,  4,  9, 16],\n",
       "       [25, 36, 49, 64]])"
      ]
     },
     "execution_count": 85,
     "metadata": {},
     "output_type": "execute_result"
    }
   ],
   "source": [
    "arr_2_dem**2"
   ]
  },
  {
   "cell_type": "code",
   "execution_count": 86,
   "id": "1db44b97-78c0-4735-b153-6c925ceae17e",
   "metadata": {},
   "outputs": [],
   "source": [
    "# Square"
   ]
  },
  {
   "cell_type": "code",
   "execution_count": 87,
   "id": "3272304e-e949-4f99-b164-53c9327f6443",
   "metadata": {},
   "outputs": [
    {
     "data": {
      "text/plain": [
       "array([[ 1,  4,  9, 16],\n",
       "       [25, 36, 49, 64]])"
      ]
     },
     "execution_count": 87,
     "metadata": {},
     "output_type": "execute_result"
    }
   ],
   "source": [
    "np.square(arr_2_dem)"
   ]
  },
  {
   "cell_type": "code",
   "execution_count": 88,
   "id": "e52ed40c-bb16-4adc-b644-5dc9ba35cbe6",
   "metadata": {},
   "outputs": [],
   "source": [
    "# Modullo"
   ]
  },
  {
   "cell_type": "code",
   "execution_count": 89,
   "id": "fb50b4f7-115a-4ddb-b744-05cb61236f07",
   "metadata": {},
   "outputs": [
    {
     "data": {
      "text/plain": [
       "array([[1, 0, 1, 0],\n",
       "       [1, 0, 1, 0]])"
      ]
     },
     "execution_count": 89,
     "metadata": {},
     "output_type": "execute_result"
    }
   ],
   "source": [
    "arr_2_dem % 2"
   ]
  },
  {
   "cell_type": "code",
   "execution_count": 90,
   "id": "8a70c84b-333d-47bf-b37a-fbbd4b4bcae5",
   "metadata": {},
   "outputs": [],
   "source": [
    "# Aggregasion"
   ]
  },
  {
   "cell_type": "code",
   "execution_count": 91,
   "id": "b89c15a6-2e8f-4813-abd4-34e463a8c9b6",
   "metadata": {},
   "outputs": [],
   "source": [
    "testing_arr = np.random.random(1000)"
   ]
  },
  {
   "cell_type": "code",
   "execution_count": 92,
   "id": "6616b0bd-661f-425d-915c-7be0cd10607f",
   "metadata": {},
   "outputs": [
    {
     "data": {
      "text/plain": [
       "array([0.24442559, 0.15896958, 0.11037514, 0.65632959, 0.13818295,\n",
       "       0.19658236, 0.36872517, 0.82099323, 0.09710128, 0.83794491])"
      ]
     },
     "execution_count": 92,
     "metadata": {},
     "output_type": "execute_result"
    }
   ],
   "source": [
    "testing_arr[:10]"
   ]
  },
  {
   "cell_type": "code",
   "execution_count": 93,
   "id": "43b7537d-f870-47e0-b99d-98ae1801b3f0",
   "metadata": {},
   "outputs": [],
   "source": [
    "# Sum"
   ]
  },
  {
   "cell_type": "code",
   "execution_count": 94,
   "id": "7f413f68-dae5-4e5e-b8f6-b44a9c902f7b",
   "metadata": {},
   "outputs": [
    {
     "data": {
      "text/plain": [
       "np.float64(493.23479601723744)"
      ]
     },
     "execution_count": 94,
     "metadata": {},
     "output_type": "execute_result"
    }
   ],
   "source": [
    "sum(testing_arr)            # Python Method"
   ]
  },
  {
   "cell_type": "code",
   "execution_count": 95,
   "id": "4b57c7c5-8d9d-4df2-ac71-c2328f3637b6",
   "metadata": {},
   "outputs": [
    {
     "name": "stdout",
     "output_type": "stream",
     "text": [
      "215 μs ± 13.9 μs per loop (mean ± std. dev. of 7 runs, 1,000 loops each)\n"
     ]
    }
   ],
   "source": [
    "%timeit sum(testing_arr)        # Slower"
   ]
  },
  {
   "cell_type": "code",
   "execution_count": 96,
   "id": "25ef34bd-ca59-43b1-8638-8680a54cf27d",
   "metadata": {},
   "outputs": [
    {
     "data": {
      "text/plain": [
       "np.float64(493.2347960172372)"
      ]
     },
     "execution_count": 96,
     "metadata": {},
     "output_type": "execute_result"
    }
   ],
   "source": [
    "np.sum(testing_arr)           # Numpy Method"
   ]
  },
  {
   "cell_type": "code",
   "execution_count": 97,
   "id": "2745fb60-b12c-4be0-8276-bce30d1fbe30",
   "metadata": {},
   "outputs": [
    {
     "name": "stdout",
     "output_type": "stream",
     "text": [
      "9.76 μs ± 240 ns per loop (mean ± std. dev. of 7 runs, 100,000 loops each)\n"
     ]
    }
   ],
   "source": [
    "%timeit np.sum(testing_arr)      # Faster"
   ]
  },
  {
   "cell_type": "code",
   "execution_count": 98,
   "id": "0eaa9a7d-ce60-4c66-b35b-649f6d95f197",
   "metadata": {},
   "outputs": [],
   "source": [
    "# Max"
   ]
  },
  {
   "cell_type": "code",
   "execution_count": 99,
   "id": "7ee2cecd-982d-4831-a63c-c6e3fd4975b9",
   "metadata": {},
   "outputs": [
    {
     "data": {
      "text/plain": [
       "np.float64(0.9998085781169653)"
      ]
     },
     "execution_count": 99,
     "metadata": {},
     "output_type": "execute_result"
    }
   ],
   "source": [
    "np.max(testing_arr)  "
   ]
  },
  {
   "cell_type": "code",
   "execution_count": 100,
   "id": "8ac01e9d-87e4-46b6-93bc-b89126d53ae5",
   "metadata": {},
   "outputs": [],
   "source": [
    "# Min"
   ]
  },
  {
   "cell_type": "code",
   "execution_count": 101,
   "id": "04f7333a-0ce1-4b92-b39d-5345be293ddc",
   "metadata": {},
   "outputs": [
    {
     "data": {
      "text/plain": [
       "np.float64(0.0005459648969956543)"
      ]
     },
     "execution_count": 101,
     "metadata": {},
     "output_type": "execute_result"
    }
   ],
   "source": [
    "np.min(testing_arr)  "
   ]
  },
  {
   "cell_type": "code",
   "execution_count": 108,
   "id": "ed62569d-afe0-4f0e-9853-6beae8fd04ef",
   "metadata": {},
   "outputs": [],
   "source": [
    "# Transpose"
   ]
  },
  {
   "cell_type": "code",
   "execution_count": 109,
   "id": "7cd1eb2f-d29d-4d91-842e-4fc3391e9707",
   "metadata": {},
   "outputs": [
    {
     "data": {
      "text/plain": [
       "(2, 4)"
      ]
     },
     "execution_count": 109,
     "metadata": {},
     "output_type": "execute_result"
    }
   ],
   "source": [
    "arr_2_dem.shape"
   ]
  },
  {
   "cell_type": "code",
   "execution_count": 110,
   "id": "e89dfe81-f494-4d98-95b5-ae9826ced16b",
   "metadata": {},
   "outputs": [
    {
     "data": {
      "text/plain": [
       "(4, 2)"
      ]
     },
     "execution_count": 110,
     "metadata": {},
     "output_type": "execute_result"
    }
   ],
   "source": [
    "arr_2_dem.T.shape"
   ]
  },
  {
   "cell_type": "code",
   "execution_count": 111,
   "id": "12418e2d-6ba7-4769-a25b-fde13e55e256",
   "metadata": {},
   "outputs": [
    {
     "data": {
      "text/plain": [
       "array([[1, 5],\n",
       "       [2, 6],\n",
       "       [3, 7],\n",
       "       [4, 8]])"
      ]
     },
     "execution_count": 111,
     "metadata": {},
     "output_type": "execute_result"
    }
   ],
   "source": [
    "arr_2_dem.T"
   ]
  },
  {
   "cell_type": "code",
   "execution_count": 112,
   "id": "ce7badf7-145d-40d7-8e49-1b34f92c64f9",
   "metadata": {},
   "outputs": [],
   "source": [
    "# Reshape"
   ]
  },
  {
   "cell_type": "code",
   "execution_count": 117,
   "id": "4356f405-6a2a-4e32-b437-0645c31db540",
   "metadata": {},
   "outputs": [
    {
     "ename": "ValueError",
     "evalue": "cannot reshape array of size 8 into shape (3,1,1)",
     "output_type": "error",
     "traceback": [
      "\u001b[31m---------------------------------------------------------------------------\u001b[39m",
      "\u001b[31mValueError\u001b[39m                                Traceback (most recent call last)",
      "\u001b[36mCell\u001b[39m\u001b[36m \u001b[39m\u001b[32mIn[117]\u001b[39m\u001b[32m, line 1\u001b[39m\n\u001b[32m----> \u001b[39m\u001b[32m1\u001b[39m arr_2_dem.reshape(\u001b[32m3\u001b[39m,\u001b[32m1\u001b[39m,\u001b[32m1\u001b[39m).shape()\n",
      "\u001b[31mValueError\u001b[39m: cannot reshape array of size 8 into shape (3,1,1)"
     ]
    }
   ],
   "source": [
    "arr_2_dem.reshape(3,1,1).shape()  "
   ]
  },
  {
   "cell_type": "code",
   "execution_count": null,
   "id": "eb144a60-3227-46b5-947b-839e28b2b6dd",
   "metadata": {},
   "outputs": [],
   "source": []
  }
 ],
 "metadata": {
  "kernelspec": {
   "display_name": "Python 3 (ipykernel)",
   "language": "python",
   "name": "python3"
  },
  "language_info": {
   "codemirror_mode": {
    "name": "ipython",
    "version": 3
   },
   "file_extension": ".py",
   "mimetype": "text/x-python",
   "name": "python",
   "nbconvert_exporter": "python",
   "pygments_lexer": "ipython3",
   "version": "3.13.5"
  }
 },
 "nbformat": 4,
 "nbformat_minor": 5
}
