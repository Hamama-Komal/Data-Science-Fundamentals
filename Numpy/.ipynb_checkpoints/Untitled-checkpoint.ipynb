{
 "cells": [
  {
   "cell_type": "code",
   "execution_count": 1,
   "id": "bebe369b-aa20-4688-9973-4bd842ca7084",
   "metadata": {},
   "outputs": [],
   "source": [
    "import numpy as np"
   ]
  },
  {
   "cell_type": "code",
   "execution_count": 2,
   "id": "f067e080-3285-418f-ada0-9c0e89925f32",
   "metadata": {},
   "outputs": [],
   "source": [
    "# Show addition using Dot product"
   ]
  },
  {
   "cell_type": "code",
   "execution_count": 3,
   "id": "3c86cbf1-8359-455e-bccc-04f10e6b2312",
   "metadata": {},
   "outputs": [],
   "source": [
    "item_amount = np.random.seed(seed=0)\n",
    "item_amount = np.random.randint(20, size =(5,3))"
   ]
  },
  {
   "cell_type": "code",
   "execution_count": 33,
   "id": "f37a1215-303f-4d59-952c-174dcd3b912c",
   "metadata": {},
   "outputs": [
    {
     "data": {
      "text/plain": [
       "array([[12, 15,  0],\n",
       "       [ 3,  3,  7],\n",
       "       [ 9, 19, 18],\n",
       "       [ 4,  6, 12],\n",
       "       [ 1,  6,  7]], dtype=int32)"
      ]
     },
     "execution_count": 33,
     "metadata": {},
     "output_type": "execute_result"
    }
   ],
   "source": [
    "item_amount"
   ]
  },
  {
   "cell_type": "code",
   "execution_count": 34,
   "id": "98bf75db-1fc5-4664-a588-cf8085bdbbf4",
   "metadata": {},
   "outputs": [],
   "source": [
    "item_price = np.array([20, 40 ,50])"
   ]
  },
  {
   "cell_type": "code",
   "execution_count": 35,
   "id": "321d1ed2-07e0-4e5f-a33e-157da548c043",
   "metadata": {},
   "outputs": [
    {
     "data": {
      "text/plain": [
       "array([20, 40, 50])"
      ]
     },
     "execution_count": 35,
     "metadata": {},
     "output_type": "execute_result"
    }
   ],
   "source": [
    "item_price"
   ]
  },
  {
   "cell_type": "code",
   "execution_count": 36,
   "id": "30ffe23e-25c0-4174-9776-c72aff007cb4",
   "metadata": {},
   "outputs": [
    {
     "data": {
      "text/plain": [
       "array([[20],\n",
       "       [40],\n",
       "       [50]])"
      ]
     },
     "execution_count": 36,
     "metadata": {},
     "output_type": "execute_result"
    }
   ],
   "source": [
    "item_price.reshape(3,1)"
   ]
  },
  {
   "cell_type": "code",
   "execution_count": 37,
   "id": "efabed6b-bc8a-4952-bbc7-5fc3b30f2a6b",
   "metadata": {},
   "outputs": [],
   "source": [
    "import pandas as pd"
   ]
  },
  {
   "cell_type": "code",
   "execution_count": 38,
   "id": "0fe4dc46-9786-498d-9a5c-8b159b392e30",
   "metadata": {},
   "outputs": [],
   "source": [
    "new_item_price = pd.DataFrame(item_price.reshape(1,3), index=['Prices'], columns = ['item1', 'item2', 'item3'])"
   ]
  },
  {
   "cell_type": "code",
   "execution_count": 40,
   "id": "b3481f9c-d0bd-49c1-a9f3-052c61b4b49b",
   "metadata": {},
   "outputs": [
    {
     "data": {
      "text/plain": [
       "(1, 3)"
      ]
     },
     "execution_count": 40,
     "metadata": {},
     "output_type": "execute_result"
    }
   ],
   "source": [
    "new_item_price.shape"
   ]
  },
  {
   "cell_type": "code",
   "execution_count": 42,
   "id": "f6bf6771-819e-45a3-a5fa-54108c3b8d3b",
   "metadata": {},
   "outputs": [],
   "source": [
    "total_price = new_item_price.dot(item_amount.T)"
   ]
  },
  {
   "cell_type": "code",
   "execution_count": 39,
   "id": "e8b3c890-52d4-442d-88e4-c6f5c3e5012f",
   "metadata": {},
   "outputs": [
    {
     "data": {
      "text/html": [
       "<div>\n",
       "<style scoped>\n",
       "    .dataframe tbody tr th:only-of-type {\n",
       "        vertical-align: middle;\n",
       "    }\n",
       "\n",
       "    .dataframe tbody tr th {\n",
       "        vertical-align: top;\n",
       "    }\n",
       "\n",
       "    .dataframe thead th {\n",
       "        text-align: right;\n",
       "    }\n",
       "</style>\n",
       "<table border=\"1\" class=\"dataframe\">\n",
       "  <thead>\n",
       "    <tr style=\"text-align: right;\">\n",
       "      <th></th>\n",
       "      <th>item1</th>\n",
       "      <th>item2</th>\n",
       "      <th>item3</th>\n",
       "    </tr>\n",
       "  </thead>\n",
       "  <tbody>\n",
       "    <tr>\n",
       "      <th>Prices</th>\n",
       "      <td>20</td>\n",
       "      <td>40</td>\n",
       "      <td>50</td>\n",
       "    </tr>\n",
       "  </tbody>\n",
       "</table>\n",
       "</div>"
      ],
      "text/plain": [
       "        item1  item2  item3\n",
       "Prices     20     40     50"
      ]
     },
     "execution_count": 39,
     "metadata": {},
     "output_type": "execute_result"
    }
   ],
   "source": [
    "new_item_price"
   ]
  },
  {
   "cell_type": "code",
   "execution_count": 41,
   "id": "35a760bc-89ce-4ba1-8aa8-09124f453950",
   "metadata": {},
   "outputs": [
    {
     "data": {
      "text/plain": [
       "(5, 3)"
      ]
     },
     "execution_count": 41,
     "metadata": {},
     "output_type": "execute_result"
    }
   ],
   "source": [
    "item_amount.shape"
   ]
  },
  {
   "cell_type": "code",
   "execution_count": 43,
   "id": "e51751db-1a62-445b-ae98-541eb2a04ae2",
   "metadata": {},
   "outputs": [
    {
     "data": {
      "text/html": [
       "<div>\n",
       "<style scoped>\n",
       "    .dataframe tbody tr th:only-of-type {\n",
       "        vertical-align: middle;\n",
       "    }\n",
       "\n",
       "    .dataframe tbody tr th {\n",
       "        vertical-align: top;\n",
       "    }\n",
       "\n",
       "    .dataframe thead th {\n",
       "        text-align: right;\n",
       "    }\n",
       "</style>\n",
       "<table border=\"1\" class=\"dataframe\">\n",
       "  <thead>\n",
       "    <tr style=\"text-align: right;\">\n",
       "      <th></th>\n",
       "      <th>0</th>\n",
       "      <th>1</th>\n",
       "      <th>2</th>\n",
       "      <th>3</th>\n",
       "      <th>4</th>\n",
       "    </tr>\n",
       "  </thead>\n",
       "  <tbody>\n",
       "    <tr>\n",
       "      <th>Prices</th>\n",
       "      <td>840</td>\n",
       "      <td>530</td>\n",
       "      <td>1840</td>\n",
       "      <td>920</td>\n",
       "      <td>610</td>\n",
       "    </tr>\n",
       "  </tbody>\n",
       "</table>\n",
       "</div>"
      ],
      "text/plain": [
       "          0    1     2    3    4\n",
       "Prices  840  530  1840  920  610"
      ]
     },
     "execution_count": 43,
     "metadata": {},
     "output_type": "execute_result"
    }
   ],
   "source": [
    "total_price"
   ]
  },
  {
   "cell_type": "code",
   "execution_count": 44,
   "id": "962bbfb5-a387-4d40-8f01-d6f020e86548",
   "metadata": {},
   "outputs": [],
   "source": [
    "new_item_amount = pd.DataFrame(total_price, index=['Mon','Tue','Wed','Thus','Fri',], columns = ['Price'])"
   ]
  },
  {
   "cell_type": "code",
   "execution_count": 45,
   "id": "b3693d94-bb72-4533-bc38-8e9f58019f8d",
   "metadata": {},
   "outputs": [
    {
     "data": {
      "text/html": [
       "<div>\n",
       "<style scoped>\n",
       "    .dataframe tbody tr th:only-of-type {\n",
       "        vertical-align: middle;\n",
       "    }\n",
       "\n",
       "    .dataframe tbody tr th {\n",
       "        vertical-align: top;\n",
       "    }\n",
       "\n",
       "    .dataframe thead th {\n",
       "        text-align: right;\n",
       "    }\n",
       "</style>\n",
       "<table border=\"1\" class=\"dataframe\">\n",
       "  <thead>\n",
       "    <tr style=\"text-align: right;\">\n",
       "      <th></th>\n",
       "      <th>Price</th>\n",
       "    </tr>\n",
       "  </thead>\n",
       "  <tbody>\n",
       "    <tr>\n",
       "      <th>Mon</th>\n",
       "      <td>NaN</td>\n",
       "    </tr>\n",
       "    <tr>\n",
       "      <th>Tue</th>\n",
       "      <td>NaN</td>\n",
       "    </tr>\n",
       "    <tr>\n",
       "      <th>Wed</th>\n",
       "      <td>NaN</td>\n",
       "    </tr>\n",
       "    <tr>\n",
       "      <th>Thus</th>\n",
       "      <td>NaN</td>\n",
       "    </tr>\n",
       "    <tr>\n",
       "      <th>Fri</th>\n",
       "      <td>NaN</td>\n",
       "    </tr>\n",
       "  </tbody>\n",
       "</table>\n",
       "</div>"
      ],
      "text/plain": [
       "      Price\n",
       "Mon     NaN\n",
       "Tue     NaN\n",
       "Wed     NaN\n",
       "Thus    NaN\n",
       "Fri     NaN"
      ]
     },
     "execution_count": 45,
     "metadata": {},
     "output_type": "execute_result"
    }
   ],
   "source": [
    "new_item_amount"
   ]
  },
  {
   "cell_type": "code",
   "execution_count": 46,
   "id": "03b8b5bf-041d-4696-a519-2120ff094288",
   "metadata": {},
   "outputs": [
    {
     "ename": "ValueError",
     "evalue": "matrices are not aligned",
     "output_type": "error",
     "traceback": [
      "\u001b[31m---------------------------------------------------------------------------\u001b[39m",
      "\u001b[31mValueError\u001b[39m                                Traceback (most recent call last)",
      "\u001b[32m~\\AppData\\Local\\Temp\\ipykernel_9972\\2352873649.py\u001b[39m in \u001b[36m?\u001b[39m\u001b[34m()\u001b[39m\n\u001b[32m----> \u001b[39m\u001b[32m1\u001b[39m total_item = new_item_amount.dot(new_item_price.T)\n",
      "\u001b[32mE:\\Courses\\Machine Learning Course Resourses\\ML Projects\\learning_pandas\\venv\\Lib\\site-packages\\pandas\\core\\frame.py\u001b[39m in \u001b[36m?\u001b[39m\u001b[34m(self, other)\u001b[39m\n\u001b[32m   1738\u001b[39m         \"\"\"\n\u001b[32m   1739\u001b[39m         \u001b[38;5;28;01mif\u001b[39;00m isinstance(other, (Series, DataFrame)):\n\u001b[32m   1740\u001b[39m             common = self.columns.union(other.index)\n\u001b[32m   1741\u001b[39m             \u001b[38;5;28;01mif\u001b[39;00m len(common) > len(self.columns) \u001b[38;5;28;01mor\u001b[39;00m len(common) > len(other.index):\n\u001b[32m-> \u001b[39m\u001b[32m1742\u001b[39m                 \u001b[38;5;28;01mraise\u001b[39;00m ValueError(\u001b[33m\"matrices are not aligned\"\u001b[39m)\n\u001b[32m   1743\u001b[39m \n\u001b[32m   1744\u001b[39m             left = self.reindex(columns=common, copy=\u001b[38;5;28;01mFalse\u001b[39;00m)\n\u001b[32m   1745\u001b[39m             right = other.reindex(index=common, copy=\u001b[38;5;28;01mFalse\u001b[39;00m)\n",
      "\u001b[31mValueError\u001b[39m: matrices are not aligned"
     ]
    }
   ],
   "source": [
    "total_item = new_item_amount.dot(new_item_price.T)"
   ]
  },
  {
   "cell_type": "code",
   "execution_count": 47,
   "id": "ef444d59-229b-42c0-8322-6c423e74e814",
   "metadata": {},
   "outputs": [
    {
     "data": {
      "text/html": [
       "<div>\n",
       "<style scoped>\n",
       "    .dataframe tbody tr th:only-of-type {\n",
       "        vertical-align: middle;\n",
       "    }\n",
       "\n",
       "    .dataframe tbody tr th {\n",
       "        vertical-align: top;\n",
       "    }\n",
       "\n",
       "    .dataframe thead th {\n",
       "        text-align: right;\n",
       "    }\n",
       "</style>\n",
       "<table border=\"1\" class=\"dataframe\">\n",
       "  <thead>\n",
       "    <tr style=\"text-align: right;\">\n",
       "      <th></th>\n",
       "      <th>Prices</th>\n",
       "    </tr>\n",
       "  </thead>\n",
       "  <tbody>\n",
       "    <tr>\n",
       "      <th>Mon</th>\n",
       "      <td>840</td>\n",
       "    </tr>\n",
       "    <tr>\n",
       "      <th>Tue</th>\n",
       "      <td>530</td>\n",
       "    </tr>\n",
       "    <tr>\n",
       "      <th>Wed</th>\n",
       "      <td>1840</td>\n",
       "    </tr>\n",
       "    <tr>\n",
       "      <th>Thus</th>\n",
       "      <td>920</td>\n",
       "    </tr>\n",
       "    <tr>\n",
       "      <th>Fri</th>\n",
       "      <td>610</td>\n",
       "    </tr>\n",
       "  </tbody>\n",
       "</table>\n",
       "</div>"
      ],
      "text/plain": [
       "      Prices\n",
       "Mon      840\n",
       "Tue      530\n",
       "Wed     1840\n",
       "Thus     920\n",
       "Fri      610"
      ]
     },
     "execution_count": 47,
     "metadata": {},
     "output_type": "execute_result"
    }
   ],
   "source": [
    "total_item"
   ]
  },
  {
   "cell_type": "code",
   "execution_count": null,
   "id": "21b0b0e8-26b7-498a-bd5a-e69cfc76226c",
   "metadata": {},
   "outputs": [],
   "source": []
  }
 ],
 "metadata": {
  "kernelspec": {
   "display_name": "Python 3 (ipykernel)",
   "language": "python",
   "name": "python3"
  },
  "language_info": {
   "codemirror_mode": {
    "name": "ipython",
    "version": 3
   },
   "file_extension": ".py",
   "mimetype": "text/x-python",
   "name": "python",
   "nbconvert_exporter": "python",
   "pygments_lexer": "ipython3",
   "version": "3.13.5"
  }
 },
 "nbformat": 4,
 "nbformat_minor": 5
}
